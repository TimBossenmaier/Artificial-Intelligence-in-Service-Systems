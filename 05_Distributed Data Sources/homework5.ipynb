{
 "cells": [
  {
   "cell_type": "markdown",
   "metadata": {},
   "source": [
    "# Homework 5 – Analysis of distributed data sources"
   ]
  },
  {
   "cell_type": "markdown",
   "metadata": {},
   "source": [
    "In the data set we already used in the exercise, there is another target attribute: age.\n",
    "Complete the task group A **or** B. Always assess the performance of the corresponding classifier/regressor.\n",
    "\n",
    "**Task group A**\n",
    "1. Build and test a text classifier based on the age of a user according their age classes (0-10, 11-20, 21-30, 31+).\n",
    "\n",
    "2. Build a ML name classifier that classifies the age of a user according their age classes (0-10, 11-20, 21-30, 31+).\n",
    "\n",
    "3. Build a meta classifier that combines the previously built classifiers based on their age classes (0-10, 11-20, 21-30, 31+).\n",
    "\n",
    "**Task group B**\n",
    "1. Build and test a text regressor based on the age of a user according their specific age (regression).\n",
    "\n",
    "2. Build a ML name classifier that classifies the age of a user according their specific age (regression).\n",
    "\n",
    "3. Build a meta classifier that combines the previously built classifiers based on their specific age (regression)."
   ]
  },
  {
   "cell_type": "markdown",
   "metadata": {},
   "source": [
    "<i>**Please make sure:**\n",
    "\n",
    "- each cell (essential step) is commented on with a short sentence\n",
    "- new variables / fields are output in sufficient length (e.g., df.head (10))\n",
    "- each of the tasks is answered with a short written statement\n",
    "\n",
    "This makes the evaluation much easier and, thus, would help us a lot.</i>\n"
   ]
  },
  {
   "cell_type": "markdown",
   "metadata": {},
   "source": [
    "## Task group A"
   ]
  },
  {
   "cell_type": "markdown",
   "metadata": {},
   "source": [
    "### Preparation"
   ]
  },
  {
   "cell_type": "markdown",
   "metadata": {},
   "source": [
    "Import the necessary functions"
   ]
  },
  {
   "cell_type": "code",
   "execution_count": 1,
   "metadata": {},
   "outputs": [],
   "source": [
    "import pandas as pd\n",
    "import numpy as np\n",
    "from sklearn.model_selection import train_test_split\n",
    "from sklearn.naive_bayes import MultinomialNB\n",
    "from sklearn.feature_extraction.text import CountVectorizer \n",
    "from sklearn.metrics import accuracy_score as accuracy\n",
    "from sklearn.ensemble import RandomForestClassifier \n",
    "from sklearn.svm import SVC"
   ]
  },
  {
   "cell_type": "markdown",
   "metadata": {},
   "source": [
    "Import the data set"
   ]
  },
  {
   "cell_type": "code",
   "execution_count": 2,
   "metadata": {},
   "outputs": [
    {
     "data": {
      "text/plain": [
       "(2916, 6)"
      ]
     },
     "execution_count": 2,
     "metadata": {},
     "output_type": "execute_result"
    }
   ],
   "source": [
    "data = pd.read_pickle('data/twitterData.pkl')\n",
    "data.shape"
   ]
  },
  {
   "cell_type": "markdown",
   "metadata": {},
   "source": [
    "Get familiar with the structure of the data."
   ]
  },
  {
   "cell_type": "code",
   "execution_count": 3,
   "metadata": {},
   "outputs": [
    {
     "data": {
      "text/html": [
       "<div>\n",
       "<style scoped>\n",
       "    .dataframe tbody tr th:only-of-type {\n",
       "        vertical-align: middle;\n",
       "    }\n",
       "\n",
       "    .dataframe tbody tr th {\n",
       "        vertical-align: top;\n",
       "    }\n",
       "\n",
       "    .dataframe thead th {\n",
       "        text-align: right;\n",
       "    }\n",
       "</style>\n",
       "<table border=\"1\" class=\"dataframe\">\n",
       "  <thead>\n",
       "    <tr style=\"text-align: right;\">\n",
       "      <th></th>\n",
       "      <th>screen_name</th>\n",
       "      <th>name</th>\n",
       "      <th>tweets_concatenated</th>\n",
       "      <th>avatar_url</th>\n",
       "      <th>gender</th>\n",
       "      <th>age</th>\n",
       "    </tr>\n",
       "  </thead>\n",
       "  <tbody>\n",
       "    <tr>\n",
       "      <th>0</th>\n",
       "      <td>Celli_Dragonfly</td>\n",
       "      <td>Celine Schwaiger</td>\n",
       "      <td>@otasatic Ist nicht schlimm, ich kenne das zu ...</td>\n",
       "      <td>http://pbs.twimg.com/profile_images/4912167509...</td>\n",
       "      <td>F</td>\n",
       "      <td>18.0</td>\n",
       "    </tr>\n",
       "    <tr>\n",
       "      <th>0</th>\n",
       "      <td>530bw</td>\n",
       "      <td>T. Jennings</td>\n",
       "      <td>Katastrophe für Blogs dank EuGH-Urteil: Urhebe...</td>\n",
       "      <td>http://pbs.twimg.com/profile_images/2448380322...</td>\n",
       "      <td>F</td>\n",
       "      <td>NaN</td>\n",
       "    </tr>\n",
       "    <tr>\n",
       "      <th>0</th>\n",
       "      <td>LochisTabea</td>\n",
       "      <td>⚜Tabea⚜</td>\n",
       "      <td>@Juleelchs @_DeenisTJ_ auf jeden 😏😂||Wieso ist...</td>\n",
       "      <td>http://pbs.twimg.com/profile_images/7696618319...</td>\n",
       "      <td>F</td>\n",
       "      <td>NaN</td>\n",
       "    </tr>\n",
       "    <tr>\n",
       "      <th>0</th>\n",
       "      <td>die_nuff</td>\n",
       "      <td>Räubertochter</td>\n",
       "      <td>@1337gut heute funktioniert wieder alles o.O i...</td>\n",
       "      <td>http://pbs.twimg.com/profile_images/7604922231...</td>\n",
       "      <td>F</td>\n",
       "      <td>NaN</td>\n",
       "    </tr>\n",
       "    <tr>\n",
       "      <th>0</th>\n",
       "      <td>hanshans1963</td>\n",
       "      <td>Hanshans Fruehsammer</td>\n",
       "      <td>Die Attraction Marketing Zeitung von #Hanshans...</td>\n",
       "      <td>http://pbs.twimg.com/profile_images/2796422108...</td>\n",
       "      <td>M</td>\n",
       "      <td>49.0</td>\n",
       "    </tr>\n",
       "    <tr>\n",
       "      <th>0</th>\n",
       "      <td>Anton2365_2</td>\n",
       "      <td>Anton Islitzer</td>\n",
       "      <td>Ich habe ein @YouTube-Video positiv bewertet: ...</td>\n",
       "      <td>http://pbs.twimg.com/profile_images/7123707339...</td>\n",
       "      <td>M</td>\n",
       "      <td>NaN</td>\n",
       "    </tr>\n",
       "    <tr>\n",
       "      <th>0</th>\n",
       "      <td>the_witchchild</td>\n",
       "      <td>Nessa</td>\n",
       "      <td>Ich gähne. Und gähne. Und gähne. 😴||Wenn einem...</td>\n",
       "      <td>http://pbs.twimg.com/profile_images/3788000008...</td>\n",
       "      <td>F</td>\n",
       "      <td>NaN</td>\n",
       "    </tr>\n",
       "    <tr>\n",
       "      <th>0</th>\n",
       "      <td>Sarah_x393</td>\n",
       "      <td>Sarah Mothes</td>\n",
       "      <td></td>\n",
       "      <td>http://pbs.twimg.com/profile_images/7568505502...</td>\n",
       "      <td>F</td>\n",
       "      <td>22.0</td>\n",
       "    </tr>\n",
       "    <tr>\n",
       "      <th>0</th>\n",
       "      <td>xXChrisi95Xx</td>\n",
       "      <td>Christina Scheffler</td>\n",
       "      <td>Oh man mein display zerbröselt armes iphon||Oh...</td>\n",
       "      <td>http://pbs.twimg.com/profile_images/1909240700...</td>\n",
       "      <td>F</td>\n",
       "      <td>16.0</td>\n",
       "    </tr>\n",
       "    <tr>\n",
       "      <th>0</th>\n",
       "      <td>JBurstner</td>\n",
       "      <td>Querfeldeindenkerin</td>\n",
       "      <td></td>\n",
       "      <td>http://pbs.twimg.com/profile_images/6917191334...</td>\n",
       "      <td>F</td>\n",
       "      <td>NaN</td>\n",
       "    </tr>\n",
       "  </tbody>\n",
       "</table>\n",
       "</div>"
      ],
      "text/plain": [
       "       screen_name                  name  \\\n",
       "0  Celli_Dragonfly      Celine Schwaiger   \n",
       "0            530bw           T. Jennings   \n",
       "0      LochisTabea               ⚜Tabea⚜   \n",
       "0         die_nuff         Räubertochter   \n",
       "0     hanshans1963  Hanshans Fruehsammer   \n",
       "0      Anton2365_2        Anton Islitzer   \n",
       "0   the_witchchild                 Nessa   \n",
       "0       Sarah_x393          Sarah Mothes   \n",
       "0     xXChrisi95Xx   Christina Scheffler   \n",
       "0        JBurstner   Querfeldeindenkerin   \n",
       "\n",
       "                                 tweets_concatenated  \\\n",
       "0  @otasatic Ist nicht schlimm, ich kenne das zu ...   \n",
       "0  Katastrophe für Blogs dank EuGH-Urteil: Urhebe...   \n",
       "0  @Juleelchs @_DeenisTJ_ auf jeden 😏😂||Wieso ist...   \n",
       "0  @1337gut heute funktioniert wieder alles o.O i...   \n",
       "0  Die Attraction Marketing Zeitung von #Hanshans...   \n",
       "0  Ich habe ein @YouTube-Video positiv bewertet: ...   \n",
       "0  Ich gähne. Und gähne. Und gähne. 😴||Wenn einem...   \n",
       "0                                                      \n",
       "0  Oh man mein display zerbröselt armes iphon||Oh...   \n",
       "0                                                      \n",
       "\n",
       "                                          avatar_url gender   age  \n",
       "0  http://pbs.twimg.com/profile_images/4912167509...      F  18.0  \n",
       "0  http://pbs.twimg.com/profile_images/2448380322...      F   NaN  \n",
       "0  http://pbs.twimg.com/profile_images/7696618319...      F   NaN  \n",
       "0  http://pbs.twimg.com/profile_images/7604922231...      F   NaN  \n",
       "0  http://pbs.twimg.com/profile_images/2796422108...      M  49.0  \n",
       "0  http://pbs.twimg.com/profile_images/7123707339...      M   NaN  \n",
       "0  http://pbs.twimg.com/profile_images/3788000008...      F   NaN  \n",
       "0  http://pbs.twimg.com/profile_images/7568505502...      F  22.0  \n",
       "0  http://pbs.twimg.com/profile_images/1909240700...      F  16.0  \n",
       "0  http://pbs.twimg.com/profile_images/6917191334...      F   NaN  "
      ]
     },
     "execution_count": 3,
     "metadata": {},
     "output_type": "execute_result"
    }
   ],
   "source": [
    "data.sample(10)"
   ]
  },
  {
   "cell_type": "markdown",
   "metadata": {},
   "source": [
    "Filter out all data instances with empty tweets."
   ]
  },
  {
   "cell_type": "code",
   "execution_count": 4,
   "metadata": {},
   "outputs": [
    {
     "data": {
      "text/plain": [
       "(2486, 6)"
      ]
     },
     "execution_count": 4,
     "metadata": {},
     "output_type": "execute_result"
    }
   ],
   "source": [
    "data = data[data.tweets_concatenated != '']\n",
    "data.shape"
   ]
  },
  {
   "cell_type": "markdown",
   "metadata": {},
   "source": [
    "Filter out all data instances with missing age."
   ]
  },
  {
   "cell_type": "code",
   "execution_count": 5,
   "metadata": {},
   "outputs": [
    {
     "data": {
      "text/plain": [
       "(1137, 6)"
      ]
     },
     "execution_count": 5,
     "metadata": {},
     "output_type": "execute_result"
    }
   ],
   "source": [
    "data = data[data.age.notnull()]\n",
    "data.shape\n"
   ]
  },
  {
   "cell_type": "markdown",
   "metadata": {},
   "source": [
    "Filter out all data instances with missing name."
   ]
  },
  {
   "cell_type": "code",
   "execution_count": 6,
   "metadata": {},
   "outputs": [
    {
     "data": {
      "text/plain": [
       "(1137, 6)"
      ]
     },
     "execution_count": 6,
     "metadata": {},
     "output_type": "execute_result"
    }
   ],
   "source": [
    "data = data[data.name !='']\n",
    "data.shape"
   ]
  },
  {
   "cell_type": "markdown",
   "metadata": {},
   "source": [
    "Check wether filtering is correct:"
   ]
  },
  {
   "cell_type": "code",
   "execution_count": 7,
   "metadata": {},
   "outputs": [
    {
     "data": {
      "text/html": [
       "<div>\n",
       "<style scoped>\n",
       "    .dataframe tbody tr th:only-of-type {\n",
       "        vertical-align: middle;\n",
       "    }\n",
       "\n",
       "    .dataframe tbody tr th {\n",
       "        vertical-align: top;\n",
       "    }\n",
       "\n",
       "    .dataframe thead th {\n",
       "        text-align: right;\n",
       "    }\n",
       "</style>\n",
       "<table border=\"1\" class=\"dataframe\">\n",
       "  <thead>\n",
       "    <tr style=\"text-align: right;\">\n",
       "      <th></th>\n",
       "      <th>screen_name</th>\n",
       "      <th>name</th>\n",
       "      <th>tweets_concatenated</th>\n",
       "      <th>avatar_url</th>\n",
       "      <th>gender</th>\n",
       "      <th>age</th>\n",
       "    </tr>\n",
       "  </thead>\n",
       "  <tbody>\n",
       "    <tr>\n",
       "      <th>0</th>\n",
       "      <td>zeyyil1999</td>\n",
       "      <td>Zeynep :D :**</td>\n",
       "      <td>@fabrice10701 danke fürs folgen :))||Darf morg...</td>\n",
       "      <td>http://pbs.twimg.com/profile_images/3433295581...</td>\n",
       "      <td>F</td>\n",
       "      <td>16.0</td>\n",
       "    </tr>\n",
       "    <tr>\n",
       "      <th>0</th>\n",
       "      <td>BlackPlayerX</td>\n",
       "      <td>Maik</td>\n",
       "      <td>Spielt #UNCHARTED2 (Mehrspieler): http://www.n...</td>\n",
       "      <td>http://pbs.twimg.com/profile_images/1624391996...</td>\n",
       "      <td>M</td>\n",
       "      <td>30.0</td>\n",
       "    </tr>\n",
       "    <tr>\n",
       "      <th>0</th>\n",
       "      <td>Tobi_2022</td>\n",
       "      <td>Tobi Slr</td>\n",
       "      <td>RT @bushido: Unfassbar!!! ROLI auf 3 in den Si...</td>\n",
       "      <td>http://pbs.twimg.com/profile_images/7297590509...</td>\n",
       "      <td>M</td>\n",
       "      <td>15.0</td>\n",
       "    </tr>\n",
       "    <tr>\n",
       "      <th>0</th>\n",
       "      <td>nina_tbp</td>\n",
       "      <td>Nina Teller</td>\n",
       "      <td>whitney du warst die beste||ich höre gerade tb...</td>\n",
       "      <td>http://pbs.twimg.com/profile_images/1825389989...</td>\n",
       "      <td>F</td>\n",
       "      <td>15.0</td>\n",
       "    </tr>\n",
       "    <tr>\n",
       "      <th>0</th>\n",
       "      <td>EhringStef</td>\n",
       "      <td>Stefan Ehring</td>\n",
       "      <td>@Regio_NRW Moin, im #RE11 Abf. 7:46 von Essen ...</td>\n",
       "      <td>http://pbs.twimg.com/profile_images/3788000000...</td>\n",
       "      <td>M</td>\n",
       "      <td>23.0</td>\n",
       "    </tr>\n",
       "    <tr>\n",
       "      <th>0</th>\n",
       "      <td>KingGor95</td>\n",
       "      <td>Gor Karapetyan</td>\n",
       "      <td>RT @SPORT1: .@HenrikhMkh lässt auf der Asienre...</td>\n",
       "      <td>http://pbs.twimg.com/profile_images/5797777481...</td>\n",
       "      <td>M</td>\n",
       "      <td>20.0</td>\n",
       "    </tr>\n",
       "    <tr>\n",
       "      <th>0</th>\n",
       "      <td>smiilecat</td>\n",
       "      <td>Jenny</td>\n",
       "      <td>Kinder die Sonne scheint , ab raus gehen und S...</td>\n",
       "      <td>http://pbs.twimg.com/profile_images/3445132615...</td>\n",
       "      <td>F</td>\n",
       "      <td>17.0</td>\n",
       "    </tr>\n",
       "    <tr>\n",
       "      <th>0</th>\n",
       "      <td>mximilin</td>\n",
       "      <td>maximilian</td>\n",
       "      <td>Ich Twitter. :) Bin jetzt #essen. Die ersten B...</td>\n",
       "      <td>http://pbs.twimg.com/profile_images/678166364/...</td>\n",
       "      <td>M</td>\n",
       "      <td>17.0</td>\n",
       "    </tr>\n",
       "    <tr>\n",
       "      <th>0</th>\n",
       "      <td>MusicFreakFever</td>\n",
       "      <td>Nadine (:</td>\n",
       "      <td>Heute nur DREI (!) Schulstunden !\\n Ich LIIIIE...</td>\n",
       "      <td>http://pbs.twimg.com/profile_images/3788000003...</td>\n",
       "      <td>M</td>\n",
       "      <td>15.0</td>\n",
       "    </tr>\n",
       "    <tr>\n",
       "      <th>0</th>\n",
       "      <td>Badmulder</td>\n",
       "      <td>Alex Mulder</td>\n",
       "      <td>Guten Morgen. Die Sonne scheint - viel Spaß eu...</td>\n",
       "      <td>http://pbs.twimg.com/profile_images/3399873707...</td>\n",
       "      <td>M</td>\n",
       "      <td>38.0</td>\n",
       "    </tr>\n",
       "    <tr>\n",
       "      <th>0</th>\n",
       "      <td>Zami_Jule</td>\n",
       "      <td>Zami</td>\n",
       "      <td>Crystal \\nÖh, hatte mal Lust eine Szene aus Cr...</td>\n",
       "      <td>http://pbs.twimg.com/profile_images/6187940871...</td>\n",
       "      <td>F</td>\n",
       "      <td>19.0</td>\n",
       "    </tr>\n",
       "    <tr>\n",
       "      <th>0</th>\n",
       "      <td>PhilRTk</td>\n",
       "      <td>Philipp Ratke</td>\n",
       "      <td>@SteFanTad ^^||Hi BlackHand^^ ich hab ne frage...</td>\n",
       "      <td>http://pbs.twimg.com/profile_images/1165675666...</td>\n",
       "      <td>M</td>\n",
       "      <td>13.0</td>\n",
       "    </tr>\n",
       "    <tr>\n",
       "      <th>0</th>\n",
       "      <td>Kerstin29096287</td>\n",
       "      <td>kessy_san</td>\n",
       "      <td>Ich kann nicht schlafen und schaue Videos von ...</td>\n",
       "      <td>http://pbs.twimg.com/profile_images/7336994270...</td>\n",
       "      <td>M</td>\n",
       "      <td>13.0</td>\n",
       "    </tr>\n",
       "    <tr>\n",
       "      <th>0</th>\n",
       "      <td>arnorius</td>\n",
       "      <td>febriarno</td>\n",
       "      <td>https://t.co/OZfhRlYdzE||https://t.co/GesRoqHD...</td>\n",
       "      <td>http://pbs.twimg.com/profile_images/3788000001...</td>\n",
       "      <td>M</td>\n",
       "      <td>18.0</td>\n",
       "    </tr>\n",
       "    <tr>\n",
       "      <th>0</th>\n",
       "      <td>AngiLoveMenowin</td>\n",
       "      <td>Angelina</td>\n",
       "      <td>Menowin Fröhlich , i Love you :*||Heute zur Al...</td>\n",
       "      <td>http://pbs.twimg.com/profile_images/384521602/...</td>\n",
       "      <td>M</td>\n",
       "      <td>25.0</td>\n",
       "    </tr>\n",
       "  </tbody>\n",
       "</table>\n",
       "</div>"
      ],
      "text/plain": [
       "       screen_name            name  \\\n",
       "0       zeyyil1999   Zeynep :D :**   \n",
       "0     BlackPlayerX            Maik   \n",
       "0        Tobi_2022        Tobi Slr   \n",
       "0         nina_tbp     Nina Teller   \n",
       "0       EhringStef   Stefan Ehring   \n",
       "0        KingGor95  Gor Karapetyan   \n",
       "0        smiilecat           Jenny   \n",
       "0         mximilin      maximilian   \n",
       "0  MusicFreakFever       Nadine (:   \n",
       "0        Badmulder     Alex Mulder   \n",
       "0        Zami_Jule            Zami   \n",
       "0          PhilRTk   Philipp Ratke   \n",
       "0  Kerstin29096287       kessy_san   \n",
       "0         arnorius       febriarno   \n",
       "0  AngiLoveMenowin        Angelina   \n",
       "\n",
       "                                 tweets_concatenated  \\\n",
       "0  @fabrice10701 danke fürs folgen :))||Darf morg...   \n",
       "0  Spielt #UNCHARTED2 (Mehrspieler): http://www.n...   \n",
       "0  RT @bushido: Unfassbar!!! ROLI auf 3 in den Si...   \n",
       "0  whitney du warst die beste||ich höre gerade tb...   \n",
       "0  @Regio_NRW Moin, im #RE11 Abf. 7:46 von Essen ...   \n",
       "0  RT @SPORT1: .@HenrikhMkh lässt auf der Asienre...   \n",
       "0  Kinder die Sonne scheint , ab raus gehen und S...   \n",
       "0  Ich Twitter. :) Bin jetzt #essen. Die ersten B...   \n",
       "0  Heute nur DREI (!) Schulstunden !\\n Ich LIIIIE...   \n",
       "0  Guten Morgen. Die Sonne scheint - viel Spaß eu...   \n",
       "0  Crystal \\nÖh, hatte mal Lust eine Szene aus Cr...   \n",
       "0  @SteFanTad ^^||Hi BlackHand^^ ich hab ne frage...   \n",
       "0  Ich kann nicht schlafen und schaue Videos von ...   \n",
       "0  https://t.co/OZfhRlYdzE||https://t.co/GesRoqHD...   \n",
       "0  Menowin Fröhlich , i Love you :*||Heute zur Al...   \n",
       "\n",
       "                                          avatar_url gender   age  \n",
       "0  http://pbs.twimg.com/profile_images/3433295581...      F  16.0  \n",
       "0  http://pbs.twimg.com/profile_images/1624391996...      M  30.0  \n",
       "0  http://pbs.twimg.com/profile_images/7297590509...      M  15.0  \n",
       "0  http://pbs.twimg.com/profile_images/1825389989...      F  15.0  \n",
       "0  http://pbs.twimg.com/profile_images/3788000000...      M  23.0  \n",
       "0  http://pbs.twimg.com/profile_images/5797777481...      M  20.0  \n",
       "0  http://pbs.twimg.com/profile_images/3445132615...      F  17.0  \n",
       "0  http://pbs.twimg.com/profile_images/678166364/...      M  17.0  \n",
       "0  http://pbs.twimg.com/profile_images/3788000003...      M  15.0  \n",
       "0  http://pbs.twimg.com/profile_images/3399873707...      M  38.0  \n",
       "0  http://pbs.twimg.com/profile_images/6187940871...      F  19.0  \n",
       "0  http://pbs.twimg.com/profile_images/1165675666...      M  13.0  \n",
       "0  http://pbs.twimg.com/profile_images/7336994270...      M  13.0  \n",
       "0  http://pbs.twimg.com/profile_images/3788000001...      M  18.0  \n",
       "0  http://pbs.twimg.com/profile_images/384521602/...      M  25.0  "
      ]
     },
     "execution_count": 7,
     "metadata": {},
     "output_type": "execute_result"
    }
   ],
   "source": [
    "data.sample(15)"
   ]
  },
  {
   "cell_type": "code",
   "execution_count": 8,
   "metadata": {},
   "outputs": [
    {
     "data": {
      "text/plain": [
       "count    1137.000000\n",
       "mean       22.794195\n",
       "std        12.000068\n",
       "min         3.000000\n",
       "25%        16.000000\n",
       "50%        19.000000\n",
       "75%        24.000000\n",
       "max        82.000000\n",
       "Name: age, dtype: float64"
      ]
     },
     "execution_count": 8,
     "metadata": {},
     "output_type": "execute_result"
    }
   ],
   "source": [
    "data['age'].describe()"
   ]
  },
  {
   "cell_type": "markdown",
   "metadata": {},
   "source": [
    "Oldest user in the dataset is 82 -> 100 as upper bound for age is valid."
   ]
  },
  {
   "cell_type": "code",
   "execution_count": 9,
   "metadata": {},
   "outputs": [
    {
     "data": {
      "text/html": [
       "<div>\n",
       "<style scoped>\n",
       "    .dataframe tbody tr th:only-of-type {\n",
       "        vertical-align: middle;\n",
       "    }\n",
       "\n",
       "    .dataframe tbody tr th {\n",
       "        vertical-align: top;\n",
       "    }\n",
       "\n",
       "    .dataframe thead th {\n",
       "        text-align: right;\n",
       "    }\n",
       "</style>\n",
       "<table border=\"1\" class=\"dataframe\">\n",
       "  <thead>\n",
       "    <tr style=\"text-align: right;\">\n",
       "      <th></th>\n",
       "      <th>screen_name</th>\n",
       "      <th>name</th>\n",
       "      <th>tweets_concatenated</th>\n",
       "      <th>avatar_url</th>\n",
       "      <th>gender</th>\n",
       "      <th>age</th>\n",
       "      <th>age_class</th>\n",
       "    </tr>\n",
       "  </thead>\n",
       "  <tbody>\n",
       "    <tr>\n",
       "      <th>0</th>\n",
       "      <td>DatZerooo</td>\n",
       "      <td>David</td>\n",
       "      <td>Warum riecht mein Bruder nach Pizza wenn er ei...</td>\n",
       "      <td>http://pbs.twimg.com/profile_images/7569661512...</td>\n",
       "      <td>M</td>\n",
       "      <td>16.0</td>\n",
       "      <td>(10, 20]</td>\n",
       "    </tr>\n",
       "    <tr>\n",
       "      <th>0</th>\n",
       "      <td>reap705</td>\n",
       "      <td>Oliver Gast</td>\n",
       "      <td>[CSS] Ein Off-canvas-Menü mit Dropdown-Navigat...</td>\n",
       "      <td>http://pbs.twimg.com/profile_images/1366984169...</td>\n",
       "      <td>M</td>\n",
       "      <td>15.0</td>\n",
       "      <td>(10, 20]</td>\n",
       "    </tr>\n",
       "    <tr>\n",
       "      <th>0</th>\n",
       "      <td>eduUu06</td>\n",
       "      <td>eduUu</td>\n",
       "      <td>heut abend kogge und morgen endlich haare ab :...</td>\n",
       "      <td>http://pbs.twimg.com/profile_images/896480580/...</td>\n",
       "      <td>M</td>\n",
       "      <td>46.0</td>\n",
       "      <td>(30, 100]</td>\n",
       "    </tr>\n",
       "    <tr>\n",
       "      <th>0</th>\n",
       "      <td>Narutofreak935</td>\n",
       "      <td>Avengar</td>\n",
       "      <td>@GrandlineTV gib nicht auf und mach dein Ding ...</td>\n",
       "      <td>http://pbs.twimg.com/profile_images/7317971734...</td>\n",
       "      <td>F</td>\n",
       "      <td>19.0</td>\n",
       "      <td>(10, 20]</td>\n",
       "    </tr>\n",
       "    <tr>\n",
       "      <th>0</th>\n",
       "      <td>miley_sarah</td>\n",
       "      <td>Sarah</td>\n",
       "      <td>RT @bomelino: Das \"Backe, backe Kuchen\"-Lied i...</td>\n",
       "      <td>http://pbs.twimg.com/profile_images/7584397626...</td>\n",
       "      <td>M</td>\n",
       "      <td>18.0</td>\n",
       "      <td>(10, 20]</td>\n",
       "    </tr>\n",
       "    <tr>\n",
       "      <th>0</th>\n",
       "      <td>DerIncubus</td>\n",
       "      <td>Der Incubus</td>\n",
       "      <td>@NicoleAllm Na ... gut ins neue Jahr gestartet...</td>\n",
       "      <td>http://pbs.twimg.com/profile_images/5808649200...</td>\n",
       "      <td>F</td>\n",
       "      <td>22.0</td>\n",
       "      <td>(20, 30]</td>\n",
       "    </tr>\n",
       "    <tr>\n",
       "      <th>0</th>\n",
       "      <td>Petouser</td>\n",
       "      <td>ペトユサ (Petoyusa)</td>\n",
       "      <td>Verschwörungstheorie: Pokemon Go wird von der ...</td>\n",
       "      <td>http://pbs.twimg.com/profile_images/6626943925...</td>\n",
       "      <td>M</td>\n",
       "      <td>26.0</td>\n",
       "      <td>(20, 30]</td>\n",
       "    </tr>\n",
       "    <tr>\n",
       "      <th>0</th>\n",
       "      <td>ChrisWhite126</td>\n",
       "      <td>Chris White</td>\n",
       "      <td>Ach du scheiße ist das warm. :( Hab locker 5kg...</td>\n",
       "      <td>http://pbs.twimg.com/profile_images/6463341220...</td>\n",
       "      <td>M</td>\n",
       "      <td>37.0</td>\n",
       "      <td>(30, 100]</td>\n",
       "    </tr>\n",
       "    <tr>\n",
       "      <th>0</th>\n",
       "      <td>MusicFreakFever</td>\n",
       "      <td>Nadine (:</td>\n",
       "      <td>Heute nur DREI (!) Schulstunden !\\n Ich LIIIIE...</td>\n",
       "      <td>http://pbs.twimg.com/profile_images/3788000003...</td>\n",
       "      <td>M</td>\n",
       "      <td>15.0</td>\n",
       "      <td>(10, 20]</td>\n",
       "    </tr>\n",
       "    <tr>\n",
       "      <th>0</th>\n",
       "      <td>LukasAlthoff</td>\n",
       "      <td>Luk Alt</td>\n",
       "      <td>RT @cem_oezdemir: #Pazar will mir eine Ehrenbü...</td>\n",
       "      <td>http://pbs.twimg.com/profile_images/5035102215...</td>\n",
       "      <td>F</td>\n",
       "      <td>30.0</td>\n",
       "      <td>(20, 30]</td>\n",
       "    </tr>\n",
       "  </tbody>\n",
       "</table>\n",
       "</div>"
      ],
      "text/plain": [
       "       screen_name             name  \\\n",
       "0        DatZerooo            David   \n",
       "0          reap705      Oliver Gast   \n",
       "0          eduUu06            eduUu   \n",
       "0   Narutofreak935          Avengar   \n",
       "0      miley_sarah            Sarah   \n",
       "0       DerIncubus      Der Incubus   \n",
       "0         Petouser  ペトユサ (Petoyusa)   \n",
       "0    ChrisWhite126      Chris White   \n",
       "0  MusicFreakFever        Nadine (:   \n",
       "0     LukasAlthoff          Luk Alt   \n",
       "\n",
       "                                 tweets_concatenated  \\\n",
       "0  Warum riecht mein Bruder nach Pizza wenn er ei...   \n",
       "0  [CSS] Ein Off-canvas-Menü mit Dropdown-Navigat...   \n",
       "0  heut abend kogge und morgen endlich haare ab :...   \n",
       "0  @GrandlineTV gib nicht auf und mach dein Ding ...   \n",
       "0  RT @bomelino: Das \"Backe, backe Kuchen\"-Lied i...   \n",
       "0  @NicoleAllm Na ... gut ins neue Jahr gestartet...   \n",
       "0  Verschwörungstheorie: Pokemon Go wird von der ...   \n",
       "0  Ach du scheiße ist das warm. :( Hab locker 5kg...   \n",
       "0  Heute nur DREI (!) Schulstunden !\\n Ich LIIIIE...   \n",
       "0  RT @cem_oezdemir: #Pazar will mir eine Ehrenbü...   \n",
       "\n",
       "                                          avatar_url gender   age  age_class  \n",
       "0  http://pbs.twimg.com/profile_images/7569661512...      M  16.0   (10, 20]  \n",
       "0  http://pbs.twimg.com/profile_images/1366984169...      M  15.0   (10, 20]  \n",
       "0  http://pbs.twimg.com/profile_images/896480580/...      M  46.0  (30, 100]  \n",
       "0  http://pbs.twimg.com/profile_images/7317971734...      F  19.0   (10, 20]  \n",
       "0  http://pbs.twimg.com/profile_images/7584397626...      M  18.0   (10, 20]  \n",
       "0  http://pbs.twimg.com/profile_images/5808649200...      F  22.0   (20, 30]  \n",
       "0  http://pbs.twimg.com/profile_images/6626943925...      M  26.0   (20, 30]  \n",
       "0  http://pbs.twimg.com/profile_images/6463341220...      M  37.0  (30, 100]  \n",
       "0  http://pbs.twimg.com/profile_images/3788000003...      M  15.0   (10, 20]  \n",
       "0  http://pbs.twimg.com/profile_images/5035102215...      F  30.0   (20, 30]  "
      ]
     },
     "execution_count": 9,
     "metadata": {},
     "output_type": "execute_result"
    }
   ],
   "source": [
    "bins = pd.IntervalIndex.from_tuples([(0,10),(10,20),(20,30),(30,100)])\n",
    "data['age_class'] = pd.cut(data['age'],bins = bins)\n",
    "data.head(10)"
   ]
  },
  {
   "cell_type": "markdown",
   "metadata": {},
   "source": [
    "Coddify age intervalls."
   ]
  },
  {
   "cell_type": "code",
   "execution_count": 10,
   "metadata": {},
   "outputs": [
    {
     "data": {
      "text/html": [
       "<div>\n",
       "<style scoped>\n",
       "    .dataframe tbody tr th:only-of-type {\n",
       "        vertical-align: middle;\n",
       "    }\n",
       "\n",
       "    .dataframe tbody tr th {\n",
       "        vertical-align: top;\n",
       "    }\n",
       "\n",
       "    .dataframe thead th {\n",
       "        text-align: right;\n",
       "    }\n",
       "</style>\n",
       "<table border=\"1\" class=\"dataframe\">\n",
       "  <thead>\n",
       "    <tr style=\"text-align: right;\">\n",
       "      <th></th>\n",
       "      <th>screen_name</th>\n",
       "      <th>name</th>\n",
       "      <th>tweets_concatenated</th>\n",
       "      <th>avatar_url</th>\n",
       "      <th>gender</th>\n",
       "      <th>age</th>\n",
       "      <th>age_class</th>\n",
       "    </tr>\n",
       "  </thead>\n",
       "  <tbody>\n",
       "    <tr>\n",
       "      <th>0</th>\n",
       "      <td>DatZerooo</td>\n",
       "      <td>David</td>\n",
       "      <td>Warum riecht mein Bruder nach Pizza wenn er ei...</td>\n",
       "      <td>http://pbs.twimg.com/profile_images/7569661512...</td>\n",
       "      <td>M</td>\n",
       "      <td>16.0</td>\n",
       "      <td>1</td>\n",
       "    </tr>\n",
       "    <tr>\n",
       "      <th>0</th>\n",
       "      <td>reap705</td>\n",
       "      <td>Oliver Gast</td>\n",
       "      <td>[CSS] Ein Off-canvas-Menü mit Dropdown-Navigat...</td>\n",
       "      <td>http://pbs.twimg.com/profile_images/1366984169...</td>\n",
       "      <td>M</td>\n",
       "      <td>15.0</td>\n",
       "      <td>1</td>\n",
       "    </tr>\n",
       "    <tr>\n",
       "      <th>0</th>\n",
       "      <td>eduUu06</td>\n",
       "      <td>eduUu</td>\n",
       "      <td>heut abend kogge und morgen endlich haare ab :...</td>\n",
       "      <td>http://pbs.twimg.com/profile_images/896480580/...</td>\n",
       "      <td>M</td>\n",
       "      <td>46.0</td>\n",
       "      <td>3</td>\n",
       "    </tr>\n",
       "    <tr>\n",
       "      <th>0</th>\n",
       "      <td>Narutofreak935</td>\n",
       "      <td>Avengar</td>\n",
       "      <td>@GrandlineTV gib nicht auf und mach dein Ding ...</td>\n",
       "      <td>http://pbs.twimg.com/profile_images/7317971734...</td>\n",
       "      <td>F</td>\n",
       "      <td>19.0</td>\n",
       "      <td>1</td>\n",
       "    </tr>\n",
       "    <tr>\n",
       "      <th>0</th>\n",
       "      <td>miley_sarah</td>\n",
       "      <td>Sarah</td>\n",
       "      <td>RT @bomelino: Das \"Backe, backe Kuchen\"-Lied i...</td>\n",
       "      <td>http://pbs.twimg.com/profile_images/7584397626...</td>\n",
       "      <td>M</td>\n",
       "      <td>18.0</td>\n",
       "      <td>1</td>\n",
       "    </tr>\n",
       "    <tr>\n",
       "      <th>0</th>\n",
       "      <td>DerIncubus</td>\n",
       "      <td>Der Incubus</td>\n",
       "      <td>@NicoleAllm Na ... gut ins neue Jahr gestartet...</td>\n",
       "      <td>http://pbs.twimg.com/profile_images/5808649200...</td>\n",
       "      <td>F</td>\n",
       "      <td>22.0</td>\n",
       "      <td>2</td>\n",
       "    </tr>\n",
       "    <tr>\n",
       "      <th>0</th>\n",
       "      <td>Petouser</td>\n",
       "      <td>ペトユサ (Petoyusa)</td>\n",
       "      <td>Verschwörungstheorie: Pokemon Go wird von der ...</td>\n",
       "      <td>http://pbs.twimg.com/profile_images/6626943925...</td>\n",
       "      <td>M</td>\n",
       "      <td>26.0</td>\n",
       "      <td>2</td>\n",
       "    </tr>\n",
       "    <tr>\n",
       "      <th>0</th>\n",
       "      <td>ChrisWhite126</td>\n",
       "      <td>Chris White</td>\n",
       "      <td>Ach du scheiße ist das warm. :( Hab locker 5kg...</td>\n",
       "      <td>http://pbs.twimg.com/profile_images/6463341220...</td>\n",
       "      <td>M</td>\n",
       "      <td>37.0</td>\n",
       "      <td>3</td>\n",
       "    </tr>\n",
       "    <tr>\n",
       "      <th>0</th>\n",
       "      <td>MusicFreakFever</td>\n",
       "      <td>Nadine (:</td>\n",
       "      <td>Heute nur DREI (!) Schulstunden !\\n Ich LIIIIE...</td>\n",
       "      <td>http://pbs.twimg.com/profile_images/3788000003...</td>\n",
       "      <td>M</td>\n",
       "      <td>15.0</td>\n",
       "      <td>1</td>\n",
       "    </tr>\n",
       "    <tr>\n",
       "      <th>0</th>\n",
       "      <td>LukasAlthoff</td>\n",
       "      <td>Luk Alt</td>\n",
       "      <td>RT @cem_oezdemir: #Pazar will mir eine Ehrenbü...</td>\n",
       "      <td>http://pbs.twimg.com/profile_images/5035102215...</td>\n",
       "      <td>F</td>\n",
       "      <td>30.0</td>\n",
       "      <td>2</td>\n",
       "    </tr>\n",
       "  </tbody>\n",
       "</table>\n",
       "</div>"
      ],
      "text/plain": [
       "       screen_name             name  \\\n",
       "0        DatZerooo            David   \n",
       "0          reap705      Oliver Gast   \n",
       "0          eduUu06            eduUu   \n",
       "0   Narutofreak935          Avengar   \n",
       "0      miley_sarah            Sarah   \n",
       "0       DerIncubus      Der Incubus   \n",
       "0         Petouser  ペトユサ (Petoyusa)   \n",
       "0    ChrisWhite126      Chris White   \n",
       "0  MusicFreakFever        Nadine (:   \n",
       "0     LukasAlthoff          Luk Alt   \n",
       "\n",
       "                                 tweets_concatenated  \\\n",
       "0  Warum riecht mein Bruder nach Pizza wenn er ei...   \n",
       "0  [CSS] Ein Off-canvas-Menü mit Dropdown-Navigat...   \n",
       "0  heut abend kogge und morgen endlich haare ab :...   \n",
       "0  @GrandlineTV gib nicht auf und mach dein Ding ...   \n",
       "0  RT @bomelino: Das \"Backe, backe Kuchen\"-Lied i...   \n",
       "0  @NicoleAllm Na ... gut ins neue Jahr gestartet...   \n",
       "0  Verschwörungstheorie: Pokemon Go wird von der ...   \n",
       "0  Ach du scheiße ist das warm. :( Hab locker 5kg...   \n",
       "0  Heute nur DREI (!) Schulstunden !\\n Ich LIIIIE...   \n",
       "0  RT @cem_oezdemir: #Pazar will mir eine Ehrenbü...   \n",
       "\n",
       "                                          avatar_url gender   age  age_class  \n",
       "0  http://pbs.twimg.com/profile_images/7569661512...      M  16.0          1  \n",
       "0  http://pbs.twimg.com/profile_images/1366984169...      M  15.0          1  \n",
       "0  http://pbs.twimg.com/profile_images/896480580/...      M  46.0          3  \n",
       "0  http://pbs.twimg.com/profile_images/7317971734...      F  19.0          1  \n",
       "0  http://pbs.twimg.com/profile_images/7584397626...      M  18.0          1  \n",
       "0  http://pbs.twimg.com/profile_images/5808649200...      F  22.0          2  \n",
       "0  http://pbs.twimg.com/profile_images/6626943925...      M  26.0          2  \n",
       "0  http://pbs.twimg.com/profile_images/6463341220...      M  37.0          3  \n",
       "0  http://pbs.twimg.com/profile_images/3788000003...      M  15.0          1  \n",
       "0  http://pbs.twimg.com/profile_images/5035102215...      F  30.0          2  "
      ]
     },
     "execution_count": 10,
     "metadata": {},
     "output_type": "execute_result"
    }
   ],
   "source": [
    "data['age_class'] = data['age_class'].astype('category')\n",
    "data['age_class'] = data['age_class'].cat.codes\n",
    "\n",
    "data.head(10)"
   ]
  },
  {
   "cell_type": "markdown",
   "metadata": {},
   "source": [
    "Split data set into two train data sets and one test data set."
   ]
  },
  {
   "cell_type": "code",
   "execution_count": 11,
   "metadata": {},
   "outputs": [],
   "source": [
    "trainSub, tempData = train_test_split(data, test_size = 0.3, random_state = 0)\n",
    "trainMeta, test = train_test_split(tempData,test_size = 0.3, random_state = 0)"
   ]
  },
  {
   "cell_type": "markdown",
   "metadata": {},
   "source": [
    "Get tweet data."
   ]
  },
  {
   "cell_type": "code",
   "execution_count": 12,
   "metadata": {},
   "outputs": [],
   "source": [
    "trainSub_tweets = trainSub['tweets_concatenated']\n",
    "trainMeta_tweets = trainMeta['tweets_concatenated']\n",
    "test_tweets = test['tweets_concatenated']"
   ]
  },
  {
   "cell_type": "markdown",
   "metadata": {},
   "source": [
    "Get name data."
   ]
  },
  {
   "cell_type": "code",
   "execution_count": 13,
   "metadata": {},
   "outputs": [],
   "source": [
    "trainSub_name = trainSub['name']\n",
    "trainMeta_name = trainMeta['name']\n",
    "test_name = test['name']"
   ]
  },
  {
   "cell_type": "markdown",
   "metadata": {},
   "source": [
    "Get target data."
   ]
  },
  {
   "cell_type": "code",
   "execution_count": 14,
   "metadata": {},
   "outputs": [],
   "source": [
    "y_trainSub = trainSub['age_class']\n",
    "y_trainMeta = trainMeta['age_class']\n",
    "y_test = test['age_class']"
   ]
  },
  {
   "cell_type": "markdown",
   "metadata": {},
   "source": [
    "  "
   ]
  },
  {
   "cell_type": "markdown",
   "metadata": {},
   "source": [
    "### Task 1 - Classifier based on tweets"
   ]
  },
  {
   "cell_type": "markdown",
   "metadata": {},
   "source": [
    "Vectorize tweet data."
   ]
  },
  {
   "cell_type": "code",
   "execution_count": 15,
   "metadata": {},
   "outputs": [],
   "source": [
    "vect = CountVectorizer()\n",
    "vect_sub = vect.fit_transform(trainSub_tweets)\n",
    "vect_meta = vect.transform(trainMeta_tweets)\n",
    "vect_test = vect.transform(test_tweets)"
   ]
  },
  {
   "cell_type": "markdown",
   "metadata": {},
   "source": [
    "Train classifier on the tweet data and predict users' age."
   ]
  },
  {
   "cell_type": "code",
   "execution_count": 16,
   "metadata": {},
   "outputs": [
    {
     "name": "stderr",
     "output_type": "stream",
     "text": [
      "C:\\Users\\Tim Bo\\Anaconda3\\lib\\site-packages\\sklearn\\svm\\base.py:196: FutureWarning: The default value of gamma will change from 'auto' to 'scale' in version 0.22 to account better for unscaled features. Set gamma explicitly to 'auto' or 'scale' to avoid this warning.\n",
      "  \"avoid this warning.\", FutureWarning)\n"
     ]
    },
    {
     "name": "stdout",
     "output_type": "stream",
     "text": [
      "Tweet Score is: 62.14%\n"
     ]
    }
   ],
   "source": [
    "svm_tweets = SVC()\n",
    "svm_tweets.fit(vect_sub,y_trainSub)\n",
    "tweet_score = svm_tweets.score(vect_test,y_test)\n",
    "tweet_score_text = 'Tweet Score is: {:0.2%}'.format(tweet_score)\n",
    "print(tweet_score_text)"
   ]
  },
  {
   "cell_type": "markdown",
   "metadata": {},
   "source": [
    "Store output needed for meta classifier."
   ]
  },
  {
   "cell_type": "code",
   "execution_count": 18,
   "metadata": {},
   "outputs": [],
   "source": [
    "stacked_input1 = pd.Series(svm_tweets.predict(vect_meta))\n",
    "stacked_input1_test = pd.Series(svm_tweets.predict(vect_test))"
   ]
  },
  {
   "cell_type": "markdown",
   "metadata": {},
   "source": [
    "### Task 2 - Classifier based on the names"
   ]
  },
  {
   "cell_type": "markdown",
   "metadata": {},
   "source": [
    "Vectorize name data."
   ]
  },
  {
   "cell_type": "code",
   "execution_count": 19,
   "metadata": {},
   "outputs": [],
   "source": [
    "vect2 = CountVectorizer()\n",
    "vect_sub_name = vect.fit_transform(trainSub_name)\n",
    "vect_meta_name = vect.transform(trainMeta_name)\n",
    "vect_test_name = vect.transform(test_name)"
   ]
  },
  {
   "cell_type": "markdown",
   "metadata": {},
   "source": [
    "Train Classifier on the name data and predict users' age."
   ]
  },
  {
   "cell_type": "code",
   "execution_count": 20,
   "metadata": {},
   "outputs": [
    {
     "name": "stdout",
     "output_type": "stream",
     "text": [
      "Name Score is: 65.05%\n"
     ]
    }
   ],
   "source": [
    "bayes_names = MultinomialNB()\n",
    "bayes_names.fit(vect_sub_name,y_trainSub)\n",
    "name_score = bayes_names.score(vect_test_name,y_test)\n",
    "name_score_text = 'Name Score is: {:0.2%}'.format(name_score)\n",
    "print(name_score_text)"
   ]
  },
  {
   "cell_type": "markdown",
   "metadata": {},
   "source": [
    "Store output needed for meta classifier."
   ]
  },
  {
   "cell_type": "code",
   "execution_count": 21,
   "metadata": {},
   "outputs": [],
   "source": [
    "stacked_input2 = pd.Series(bayes_names.predict(vect_meta_name))\n",
    "stacked_input2_test = pd.Series(bayes_names.predict(vect_test_name))"
   ]
  },
  {
   "cell_type": "markdown",
   "metadata": {},
   "source": [
    "### Task 3 - Meta Classifier"
   ]
  },
  {
   "cell_type": "markdown",
   "metadata": {},
   "source": [
    "Ininitialize a RandomForestClassifier as meta classifier."
   ]
  },
  {
   "cell_type": "code",
   "execution_count": 22,
   "metadata": {},
   "outputs": [],
   "source": [
    "rfc = RandomForestClassifier(n_estimators = 100, random_state = 0)"
   ]
  },
  {
   "cell_type": "markdown",
   "metadata": {},
   "source": [
    "Combine outpouts from task 1 and 2 to DataFrames."
   ]
  },
  {
   "cell_type": "code",
   "execution_count": 23,
   "metadata": {},
   "outputs": [],
   "source": [
    "meta_data_train = {'input1': stacked_input1,\n",
    "                   'input2': stacked_input2}\n",
    "meta_data_train = pd.DataFrame(meta_data_train)\n",
    "\n",
    "meta_data_test = {'input1': stacked_input1_test,\n",
    "                  'input2': stacked_input2_test}\n",
    "meta_data_test = pd.DataFrame(meta_data_test)"
   ]
  },
  {
   "cell_type": "markdown",
   "metadata": {},
   "source": [
    "Train Classifier on the meta data and make predictions."
   ]
  },
  {
   "cell_type": "code",
   "execution_count": 24,
   "metadata": {},
   "outputs": [],
   "source": [
    "rfc.fit(meta_data_train,y_trainMeta)\n",
    "meta_score = rfc.score(meta_data_test,y_test)\n",
    "name_score_text2 = 'Meta Score is: {:0.2%}'.format(meta_score)"
   ]
  },
  {
   "cell_type": "markdown",
   "metadata": {},
   "source": [
    "Performance of all Classifiers:"
   ]
  },
  {
   "cell_type": "code",
   "execution_count": 25,
   "metadata": {},
   "outputs": [
    {
     "name": "stdout",
     "output_type": "stream",
     "text": [
      "Tweet Score is: 62.14%\n",
      "Name Score is: 65.05%\n",
      "Meta Score is: 64.08%\n"
     ]
    }
   ],
   "source": [
    "print(tweet_score_text)\n",
    "print(name_score_text)\n",
    "print(name_score_text2)"
   ]
  }
 ],
 "metadata": {
  "kernelspec": {
   "display_name": "Python 3",
   "language": "python",
   "name": "python3"
  },
  "language_info": {
   "codemirror_mode": {
    "name": "ipython",
    "version": 3
   },
   "file_extension": ".py",
   "mimetype": "text/x-python",
   "name": "python",
   "nbconvert_exporter": "python",
   "pygments_lexer": "ipython3",
   "version": "3.7.0"
  }
 },
 "nbformat": 4,
 "nbformat_minor": 2
}
