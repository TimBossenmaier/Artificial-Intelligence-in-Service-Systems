{
 "cells": [
  {
   "cell_type": "markdown",
   "metadata": {},
   "source": [
    "# Homework 5 – Analysis of distributed data sources"
   ]
  },
  {
   "cell_type": "markdown",
   "metadata": {},
   "source": [
    "In the data set we already used in the exercise, there is another target attribute: age.\n",
    "Complete the task group A **or** B. Always assess the performance of the corresponding classifier/regressor.\n",
    "\n",
    "**Task group A**\n",
    "1. Build and test a text classifier based on the age of a user according their age classes (0-10, 11-20, 21-30, 31+).\n",
    "\n",
    "2. Build a ML name classifier that classifies the age of a user according their age classes (0-10, 11-20, 21-30, 31+).\n",
    "\n",
    "3. Build a meta classifier that combines the previously built classifiers based on their age classes (0-10, 11-20, 21-30, 31+).\n",
    "\n",
    "**Task group B**\n",
    "1. Build and test a text regressor based on the age of a user according their specific age (regression).\n",
    "\n",
    "2. Build a ML name classifier that classifies the age of a user according their specific age (regression).\n",
    "\n",
    "3. Build a meta classifier that combines the previously built classifiers based on their specific age (regression)."
   ]
  },
  {
   "cell_type": "markdown",
   "metadata": {},
   "source": [
    "<i>**Please make sure:**\n",
    "\n",
    "- each cell (essential step) is commented on with a short sentence\n",
    "- new variables / fields are output in sufficient length (e.g., df.head (10))\n",
    "- each of the tasks is answered with a short written statement\n",
    "\n",
    "This makes the evaluation much easier and, thus, would help us a lot.</i>\n"
   ]
  },
  {
   "cell_type": "markdown",
   "metadata": {},
   "source": [
    "## Task group A"
   ]
  },
  {
   "cell_type": "markdown",
   "metadata": {},
   "source": [
    "### Preparation"
   ]
  },
  {
   "cell_type": "markdown",
   "metadata": {},
   "source": [
    "Import the necessary functions"
   ]
  },
  {
   "cell_type": "code",
   "execution_count": 1,
   "metadata": {},
   "outputs": [],
   "source": [
    "import pandas as pd\n",
    "import numpy as np\n",
    "from sklearn.model_selection import train_test_split\n",
    "from sklearn.naive_bayes import MultinomialNB\n",
    "from sklearn.feature_extraction.text import CountVectorizer \n",
    "from sklearn.metrics import accuracy_score as accuracy\n",
    "from sklearn.ensemble import RandomForestClassifier \n",
    "from sklearn.svm import SVC"
   ]
  },
  {
   "cell_type": "markdown",
   "metadata": {},
   "source": [
    "Import the data set"
   ]
  },
  {
   "cell_type": "code",
   "execution_count": 2,
   "metadata": {},
   "outputs": [
    {
     "data": {
      "text/plain": [
       "(2916, 6)"
      ]
     },
     "execution_count": 2,
     "metadata": {},
     "output_type": "execute_result"
    }
   ],
   "source": [
    "data = pd.read_pickle('data/twitterData.pkl')\n",
    "data.shape"
   ]
  },
  {
   "cell_type": "markdown",
   "metadata": {},
   "source": [
    "Get familiar with the structure of the data."
   ]
  },
  {
   "cell_type": "code",
   "execution_count": 3,
   "metadata": {},
   "outputs": [
    {
     "data": {
      "text/html": [
       "<div>\n",
       "<style scoped>\n",
       "    .dataframe tbody tr th:only-of-type {\n",
       "        vertical-align: middle;\n",
       "    }\n",
       "\n",
       "    .dataframe tbody tr th {\n",
       "        vertical-align: top;\n",
       "    }\n",
       "\n",
       "    .dataframe thead th {\n",
       "        text-align: right;\n",
       "    }\n",
       "</style>\n",
       "<table border=\"1\" class=\"dataframe\">\n",
       "  <thead>\n",
       "    <tr style=\"text-align: right;\">\n",
       "      <th></th>\n",
       "      <th>screen_name</th>\n",
       "      <th>name</th>\n",
       "      <th>tweets_concatenated</th>\n",
       "      <th>avatar_url</th>\n",
       "      <th>gender</th>\n",
       "      <th>age</th>\n",
       "    </tr>\n",
       "  </thead>\n",
       "  <tbody>\n",
       "    <tr>\n",
       "      <th>0</th>\n",
       "      <td>fragichmich</td>\n",
       "      <td>Ist das so ?</td>\n",
       "      <td>@IchFuckafd Ah ein lupenreiner Demokrat. Kann ...</td>\n",
       "      <td>http://pbs.twimg.com/profile_images/7314199817...</td>\n",
       "      <td>M</td>\n",
       "      <td>NaN</td>\n",
       "    </tr>\n",
       "    <tr>\n",
       "      <th>0</th>\n",
       "      <td>Der_Apfelgarten</td>\n",
       "      <td>Lena Apfelblüte</td>\n",
       "      <td>https://t.co/XnyYKwrjuR||https://t.co/EXMABJcZ...</td>\n",
       "      <td>http://pbs.twimg.com/profile_images/3788000001...</td>\n",
       "      <td>F</td>\n",
       "      <td>NaN</td>\n",
       "    </tr>\n",
       "    <tr>\n",
       "      <th>0</th>\n",
       "      <td>TerminatorHigh2</td>\n",
       "      <td>ZickZackSlime</td>\n",
       "      <td></td>\n",
       "      <td>http://pbs.twimg.com/profile_images/7701262496...</td>\n",
       "      <td>M</td>\n",
       "      <td>NaN</td>\n",
       "    </tr>\n",
       "    <tr>\n",
       "      <th>0</th>\n",
       "      <td>unholysamson</td>\n",
       "      <td>Jules</td>\n",
       "      <td>Ich mag ein YouTube-Video. -- Drug Commercial ...</td>\n",
       "      <td>http://pbs.twimg.com/profile_images/999957871/...</td>\n",
       "      <td>F</td>\n",
       "      <td>18.0</td>\n",
       "    </tr>\n",
       "    <tr>\n",
       "      <th>0</th>\n",
       "      <td>Tyna_Amidala</td>\n",
       "      <td>beerandfairydust</td>\n",
       "      <td>@aaroncarter #repeat ♪♫ https://t.co/pIE54l4Pn...</td>\n",
       "      <td>http://pbs.twimg.com/profile_images/7561998346...</td>\n",
       "      <td>F</td>\n",
       "      <td>28.0</td>\n",
       "    </tr>\n",
       "    <tr>\n",
       "      <th>0</th>\n",
       "      <td>pabler_official</td>\n",
       "      <td>Claudius Pabler</td>\n",
       "      <td>Wie kann man eigentlich bei über 1600 Follower...</td>\n",
       "      <td>http://pbs.twimg.com/profile_images/7712405318...</td>\n",
       "      <td>M</td>\n",
       "      <td>NaN</td>\n",
       "    </tr>\n",
       "    <tr>\n",
       "      <th>0</th>\n",
       "      <td>Anna_Flower0807</td>\n",
       "      <td>Anna Bam❤/956km</td>\n",
       "      <td>@Giotto664 @TheCrispyRob @Julien_Bam bitte geh...</td>\n",
       "      <td>http://pbs.twimg.com/profile_images/7535917695...</td>\n",
       "      <td>F</td>\n",
       "      <td>NaN</td>\n",
       "    </tr>\n",
       "    <tr>\n",
       "      <th>0</th>\n",
       "      <td>FerrariDomi</td>\n",
       "      <td>Dominic Ferrari</td>\n",
       "      <td></td>\n",
       "      <td>http://pbs.twimg.com/profile_images/4835372516...</td>\n",
       "      <td>M</td>\n",
       "      <td>17.0</td>\n",
       "    </tr>\n",
       "    <tr>\n",
       "      <th>0</th>\n",
       "      <td>FelixNipkow</td>\n",
       "      <td>FelixNipkow</td>\n",
       "      <td>Um das Wasser für eine Seefüllung hochzupumpen...</td>\n",
       "      <td>http://pbs.twimg.com/profile_images/7506102467...</td>\n",
       "      <td>M</td>\n",
       "      <td>NaN</td>\n",
       "    </tr>\n",
       "    <tr>\n",
       "      <th>0</th>\n",
       "      <td>gautwin</td>\n",
       "      <td>Marius Gautwin</td>\n",
       "      <td>@BiFi_official leider ist der Rainer ein profi...</td>\n",
       "      <td>http://pbs.twimg.com/profile_images/7593831100...</td>\n",
       "      <td>M</td>\n",
       "      <td>NaN</td>\n",
       "    </tr>\n",
       "  </tbody>\n",
       "</table>\n",
       "</div>"
      ],
      "text/plain": [
       "       screen_name              name  \\\n",
       "0      fragichmich      Ist das so ?   \n",
       "0  Der_Apfelgarten   Lena Apfelblüte   \n",
       "0  TerminatorHigh2     ZickZackSlime   \n",
       "0     unholysamson             Jules   \n",
       "0     Tyna_Amidala  beerandfairydust   \n",
       "0  pabler_official   Claudius Pabler   \n",
       "0  Anna_Flower0807   Anna Bam❤/956km   \n",
       "0      FerrariDomi   Dominic Ferrari   \n",
       "0      FelixNipkow       FelixNipkow   \n",
       "0          gautwin    Marius Gautwin   \n",
       "\n",
       "                                 tweets_concatenated  \\\n",
       "0  @IchFuckafd Ah ein lupenreiner Demokrat. Kann ...   \n",
       "0  https://t.co/XnyYKwrjuR||https://t.co/EXMABJcZ...   \n",
       "0                                                      \n",
       "0  Ich mag ein YouTube-Video. -- Drug Commercial ...   \n",
       "0  @aaroncarter #repeat ♪♫ https://t.co/pIE54l4Pn...   \n",
       "0  Wie kann man eigentlich bei über 1600 Follower...   \n",
       "0  @Giotto664 @TheCrispyRob @Julien_Bam bitte geh...   \n",
       "0                                                      \n",
       "0  Um das Wasser für eine Seefüllung hochzupumpen...   \n",
       "0  @BiFi_official leider ist der Rainer ein profi...   \n",
       "\n",
       "                                          avatar_url gender   age  \n",
       "0  http://pbs.twimg.com/profile_images/7314199817...      M   NaN  \n",
       "0  http://pbs.twimg.com/profile_images/3788000001...      F   NaN  \n",
       "0  http://pbs.twimg.com/profile_images/7701262496...      M   NaN  \n",
       "0  http://pbs.twimg.com/profile_images/999957871/...      F  18.0  \n",
       "0  http://pbs.twimg.com/profile_images/7561998346...      F  28.0  \n",
       "0  http://pbs.twimg.com/profile_images/7712405318...      M   NaN  \n",
       "0  http://pbs.twimg.com/profile_images/7535917695...      F   NaN  \n",
       "0  http://pbs.twimg.com/profile_images/4835372516...      M  17.0  \n",
       "0  http://pbs.twimg.com/profile_images/7506102467...      M   NaN  \n",
       "0  http://pbs.twimg.com/profile_images/7593831100...      M   NaN  "
      ]
     },
     "execution_count": 3,
     "metadata": {},
     "output_type": "execute_result"
    }
   ],
   "source": [
    "data.sample(10)"
   ]
  },
  {
   "cell_type": "markdown",
   "metadata": {},
   "source": [
    "Filter out all data instances with empty tweets."
   ]
  },
  {
   "cell_type": "code",
   "execution_count": 4,
   "metadata": {},
   "outputs": [
    {
     "data": {
      "text/plain": [
       "(2486, 6)"
      ]
     },
     "execution_count": 4,
     "metadata": {},
     "output_type": "execute_result"
    }
   ],
   "source": [
    "data = data[data.tweets_concatenated != '']\n",
    "data.shape"
   ]
  },
  {
   "cell_type": "markdown",
   "metadata": {},
   "source": [
    "Filter out all data instances with missing age."
   ]
  },
  {
   "cell_type": "code",
   "execution_count": 5,
   "metadata": {},
   "outputs": [
    {
     "data": {
      "text/plain": [
       "(1137, 6)"
      ]
     },
     "execution_count": 5,
     "metadata": {},
     "output_type": "execute_result"
    }
   ],
   "source": [
    "data = data[data.age.notnull()]\n",
    "data.shape\n"
   ]
  },
  {
   "cell_type": "markdown",
   "metadata": {},
   "source": [
    "Filter out all data instances with missing name."
   ]
  },
  {
   "cell_type": "code",
   "execution_count": 6,
   "metadata": {},
   "outputs": [
    {
     "data": {
      "text/plain": [
       "(1137, 6)"
      ]
     },
     "execution_count": 6,
     "metadata": {},
     "output_type": "execute_result"
    }
   ],
   "source": [
    "data = data[data.name !='']\n",
    "data.shape"
   ]
  },
  {
   "cell_type": "markdown",
   "metadata": {},
   "source": [
    "Check wether filtering is correct:"
   ]
  },
  {
   "cell_type": "code",
   "execution_count": 7,
   "metadata": {},
   "outputs": [
    {
     "data": {
      "text/html": [
       "<div>\n",
       "<style scoped>\n",
       "    .dataframe tbody tr th:only-of-type {\n",
       "        vertical-align: middle;\n",
       "    }\n",
       "\n",
       "    .dataframe tbody tr th {\n",
       "        vertical-align: top;\n",
       "    }\n",
       "\n",
       "    .dataframe thead th {\n",
       "        text-align: right;\n",
       "    }\n",
       "</style>\n",
       "<table border=\"1\" class=\"dataframe\">\n",
       "  <thead>\n",
       "    <tr style=\"text-align: right;\">\n",
       "      <th></th>\n",
       "      <th>screen_name</th>\n",
       "      <th>name</th>\n",
       "      <th>tweets_concatenated</th>\n",
       "      <th>avatar_url</th>\n",
       "      <th>gender</th>\n",
       "      <th>age</th>\n",
       "    </tr>\n",
       "  </thead>\n",
       "  <tbody>\n",
       "    <tr>\n",
       "      <th>0</th>\n",
       "      <td>itsbeaofficial</td>\n",
       "      <td>BEA</td>\n",
       "      <td>Bin nur noch auf meinem anderen Twitter Aktiv ...</td>\n",
       "      <td>http://pbs.twimg.com/profile_images/6608724758...</td>\n",
       "      <td>F</td>\n",
       "      <td>16.0</td>\n",
       "    </tr>\n",
       "    <tr>\n",
       "      <th>0</th>\n",
       "      <td>ladabuxtehude</td>\n",
       "      <td>dt buxte</td>\n",
       "      <td>Sie gehen in den Container - WEB.DE http://t.c...</td>\n",
       "      <td>http://pbs.twimg.com/profile_images/4321967886...</td>\n",
       "      <td>M</td>\n",
       "      <td>66.0</td>\n",
       "    </tr>\n",
       "    <tr>\n",
       "      <th>0</th>\n",
       "      <td>DerPavl</td>\n",
       "      <td>Paul :P</td>\n",
       "      <td>@Kombologie @Loco1337 den hast du gefickt Brud...</td>\n",
       "      <td>http://pbs.twimg.com/profile_images/6597625481...</td>\n",
       "      <td>F</td>\n",
       "      <td>13.0</td>\n",
       "    </tr>\n",
       "    <tr>\n",
       "      <th>0</th>\n",
       "      <td>Rigo_Dade</td>\n",
       "      <td>Rigo Dade</td>\n",
       "      <td>https://t.co/ns2x2MxDcZ||https://t.co/5Rhl8avv...</td>\n",
       "      <td>http://pbs.twimg.com/profile_images/5249479092...</td>\n",
       "      <td>M</td>\n",
       "      <td>23.0</td>\n",
       "    </tr>\n",
       "    <tr>\n",
       "      <th>0</th>\n",
       "      <td>tuo_amore</td>\n",
       "      <td>aliiiina.</td>\n",
       "      <td>ZOMG ZUFALL! #3067: http://z0r.de/3067||@seiso...</td>\n",
       "      <td>http://pbs.twimg.com/profile_images/2467909929...</td>\n",
       "      <td>F</td>\n",
       "      <td>16.0</td>\n",
       "    </tr>\n",
       "    <tr>\n",
       "      <th>0</th>\n",
       "      <td>Schlotter71686</td>\n",
       "      <td>Roland Mödinger</td>\n",
       "      <td>@JSiggile Hi Siggi, ja danke, uns gehts gut, a...</td>\n",
       "      <td>http://pbs.twimg.com/profile_images/1632099543...</td>\n",
       "      <td>M</td>\n",
       "      <td>61.0</td>\n",
       "    </tr>\n",
       "    <tr>\n",
       "      <th>0</th>\n",
       "      <td>CrazY_love_tina</td>\n",
       "      <td>krissi</td>\n",
       "      <td>∂єηιѕє ℓ∂üαα вιѕт ∂ιє вєѕтєє.. ∂υυ &amp; ι¢н єιη ℓ...</td>\n",
       "      <td>http://pbs.twimg.com/profile_images/452180090/...</td>\n",
       "      <td>F</td>\n",
       "      <td>14.0</td>\n",
       "    </tr>\n",
       "    <tr>\n",
       "      <th>0</th>\n",
       "      <td>bspire</td>\n",
       "      <td>Stefan</td>\n",
       "      <td>@derdanu nö, gelbstichiges Display. Wird zurüc...</td>\n",
       "      <td>http://pbs.twimg.com/profile_images/5474916623...</td>\n",
       "      <td>F</td>\n",
       "      <td>23.0</td>\n",
       "    </tr>\n",
       "    <tr>\n",
       "      <th>0</th>\n",
       "      <td>dreggler</td>\n",
       "      <td>adrian</td>\n",
       "      <td>@EncHpannt ja :D||@palokos_ Oldenburg ist biss...</td>\n",
       "      <td>http://pbs.twimg.com/profile_images/5771888566...</td>\n",
       "      <td>F</td>\n",
       "      <td>20.0</td>\n",
       "    </tr>\n",
       "    <tr>\n",
       "      <th>0</th>\n",
       "      <td>PfeiTim</td>\n",
       "      <td>Tim Pfeifer</td>\n",
       "      <td>Warum bin ich seit einer Stunde wach, obwohl i...</td>\n",
       "      <td>http://pbs.twimg.com/profile_images/4127205851...</td>\n",
       "      <td>M</td>\n",
       "      <td>17.0</td>\n",
       "    </tr>\n",
       "    <tr>\n",
       "      <th>0</th>\n",
       "      <td>LisaOnTour_</td>\n",
       "      <td>Lisa</td>\n",
       "      <td>Gewinne einen Gutschein für Forever 21 http://...</td>\n",
       "      <td>http://pbs.twimg.com/profile_images/5162278880...</td>\n",
       "      <td>F</td>\n",
       "      <td>20.0</td>\n",
       "    </tr>\n",
       "    <tr>\n",
       "      <th>0</th>\n",
       "      <td>Agornis</td>\n",
       "      <td>Gunnar Bluhm</td>\n",
       "      <td>@HerthaBSC @Platte21 Puh  - , drücke Platte di...</td>\n",
       "      <td>http://pbs.twimg.com/profile_images/5601087678...</td>\n",
       "      <td>M</td>\n",
       "      <td>57.0</td>\n",
       "    </tr>\n",
       "    <tr>\n",
       "      <th>0</th>\n",
       "      <td>RiverInsanity</td>\n",
       "      <td>River Insanity</td>\n",
       "      <td>@ChanMachtSo An der Stelle auch mal ein dickes...</td>\n",
       "      <td>http://pbs.twimg.com/profile_images/7453250563...</td>\n",
       "      <td>F</td>\n",
       "      <td>25.0</td>\n",
       "    </tr>\n",
       "    <tr>\n",
       "      <th>0</th>\n",
       "      <td>SpechtSteffi</td>\n",
       "      <td>Steffi Specht</td>\n",
       "      <td>@BILD Na wenigstens was !!!!||Guten morgen hin...</td>\n",
       "      <td>http://pbs.twimg.com/profile_images/1524837646...</td>\n",
       "      <td>M</td>\n",
       "      <td>18.0</td>\n",
       "    </tr>\n",
       "    <tr>\n",
       "      <th>0</th>\n",
       "      <td>sternstimmen</td>\n",
       "      <td>petra noedel</td>\n",
       "      <td>Eltern  streiten sich bis sich einer das Leben...</td>\n",
       "      <td>http://abs.twimg.com/sticky/default_profile_im...</td>\n",
       "      <td>F</td>\n",
       "      <td>50.0</td>\n",
       "    </tr>\n",
       "  </tbody>\n",
       "</table>\n",
       "</div>"
      ],
      "text/plain": [
       "       screen_name             name  \\\n",
       "0   itsbeaofficial              BEA   \n",
       "0    ladabuxtehude         dt buxte   \n",
       "0          DerPavl          Paul :P   \n",
       "0        Rigo_Dade        Rigo Dade   \n",
       "0        tuo_amore        aliiiina.   \n",
       "0   Schlotter71686  Roland Mödinger   \n",
       "0  CrazY_love_tina           krissi   \n",
       "0           bspire           Stefan   \n",
       "0         dreggler           adrian   \n",
       "0          PfeiTim      Tim Pfeifer   \n",
       "0      LisaOnTour_             Lisa   \n",
       "0          Agornis     Gunnar Bluhm   \n",
       "0    RiverInsanity   River Insanity   \n",
       "0     SpechtSteffi    Steffi Specht   \n",
       "0     sternstimmen     petra noedel   \n",
       "\n",
       "                                 tweets_concatenated  \\\n",
       "0  Bin nur noch auf meinem anderen Twitter Aktiv ...   \n",
       "0  Sie gehen in den Container - WEB.DE http://t.c...   \n",
       "0  @Kombologie @Loco1337 den hast du gefickt Brud...   \n",
       "0  https://t.co/ns2x2MxDcZ||https://t.co/5Rhl8avv...   \n",
       "0  ZOMG ZUFALL! #3067: http://z0r.de/3067||@seiso...   \n",
       "0  @JSiggile Hi Siggi, ja danke, uns gehts gut, a...   \n",
       "0  ∂єηιѕє ℓ∂üαα вιѕт ∂ιє вєѕтєє.. ∂υυ & ι¢н єιη ℓ...   \n",
       "0  @derdanu nö, gelbstichiges Display. Wird zurüc...   \n",
       "0  @EncHpannt ja :D||@palokos_ Oldenburg ist biss...   \n",
       "0  Warum bin ich seit einer Stunde wach, obwohl i...   \n",
       "0  Gewinne einen Gutschein für Forever 21 http://...   \n",
       "0  @HerthaBSC @Platte21 Puh  - , drücke Platte di...   \n",
       "0  @ChanMachtSo An der Stelle auch mal ein dickes...   \n",
       "0  @BILD Na wenigstens was !!!!||Guten morgen hin...   \n",
       "0  Eltern  streiten sich bis sich einer das Leben...   \n",
       "\n",
       "                                          avatar_url gender   age  \n",
       "0  http://pbs.twimg.com/profile_images/6608724758...      F  16.0  \n",
       "0  http://pbs.twimg.com/profile_images/4321967886...      M  66.0  \n",
       "0  http://pbs.twimg.com/profile_images/6597625481...      F  13.0  \n",
       "0  http://pbs.twimg.com/profile_images/5249479092...      M  23.0  \n",
       "0  http://pbs.twimg.com/profile_images/2467909929...      F  16.0  \n",
       "0  http://pbs.twimg.com/profile_images/1632099543...      M  61.0  \n",
       "0  http://pbs.twimg.com/profile_images/452180090/...      F  14.0  \n",
       "0  http://pbs.twimg.com/profile_images/5474916623...      F  23.0  \n",
       "0  http://pbs.twimg.com/profile_images/5771888566...      F  20.0  \n",
       "0  http://pbs.twimg.com/profile_images/4127205851...      M  17.0  \n",
       "0  http://pbs.twimg.com/profile_images/5162278880...      F  20.0  \n",
       "0  http://pbs.twimg.com/profile_images/5601087678...      M  57.0  \n",
       "0  http://pbs.twimg.com/profile_images/7453250563...      F  25.0  \n",
       "0  http://pbs.twimg.com/profile_images/1524837646...      M  18.0  \n",
       "0  http://abs.twimg.com/sticky/default_profile_im...      F  50.0  "
      ]
     },
     "execution_count": 7,
     "metadata": {},
     "output_type": "execute_result"
    }
   ],
   "source": [
    "data.sample(15)"
   ]
  },
  {
   "cell_type": "code",
   "execution_count": 8,
   "metadata": {},
   "outputs": [
    {
     "data": {
      "text/plain": [
       "count    1137.000000\n",
       "mean       22.794195\n",
       "std        12.000068\n",
       "min         3.000000\n",
       "25%        16.000000\n",
       "50%        19.000000\n",
       "75%        24.000000\n",
       "max        82.000000\n",
       "Name: age, dtype: float64"
      ]
     },
     "execution_count": 8,
     "metadata": {},
     "output_type": "execute_result"
    }
   ],
   "source": [
    "data['age'].describe()"
   ]
  },
  {
   "cell_type": "markdown",
   "metadata": {},
   "source": [
    "Oldest user in the dataset is 82 -> 100 as upper bound for age is valid."
   ]
  },
  {
   "cell_type": "code",
   "execution_count": 9,
   "metadata": {},
   "outputs": [
    {
     "data": {
      "text/html": [
       "<div>\n",
       "<style scoped>\n",
       "    .dataframe tbody tr th:only-of-type {\n",
       "        vertical-align: middle;\n",
       "    }\n",
       "\n",
       "    .dataframe tbody tr th {\n",
       "        vertical-align: top;\n",
       "    }\n",
       "\n",
       "    .dataframe thead th {\n",
       "        text-align: right;\n",
       "    }\n",
       "</style>\n",
       "<table border=\"1\" class=\"dataframe\">\n",
       "  <thead>\n",
       "    <tr style=\"text-align: right;\">\n",
       "      <th></th>\n",
       "      <th>screen_name</th>\n",
       "      <th>name</th>\n",
       "      <th>tweets_concatenated</th>\n",
       "      <th>avatar_url</th>\n",
       "      <th>gender</th>\n",
       "      <th>age</th>\n",
       "      <th>age_class</th>\n",
       "    </tr>\n",
       "  </thead>\n",
       "  <tbody>\n",
       "    <tr>\n",
       "      <th>0</th>\n",
       "      <td>DatZerooo</td>\n",
       "      <td>David</td>\n",
       "      <td>Warum riecht mein Bruder nach Pizza wenn er ei...</td>\n",
       "      <td>http://pbs.twimg.com/profile_images/7569661512...</td>\n",
       "      <td>M</td>\n",
       "      <td>16.0</td>\n",
       "      <td>(10, 20]</td>\n",
       "    </tr>\n",
       "    <tr>\n",
       "      <th>0</th>\n",
       "      <td>reap705</td>\n",
       "      <td>Oliver Gast</td>\n",
       "      <td>[CSS] Ein Off-canvas-Menü mit Dropdown-Navigat...</td>\n",
       "      <td>http://pbs.twimg.com/profile_images/1366984169...</td>\n",
       "      <td>M</td>\n",
       "      <td>15.0</td>\n",
       "      <td>(10, 20]</td>\n",
       "    </tr>\n",
       "    <tr>\n",
       "      <th>0</th>\n",
       "      <td>eduUu06</td>\n",
       "      <td>eduUu</td>\n",
       "      <td>heut abend kogge und morgen endlich haare ab :...</td>\n",
       "      <td>http://pbs.twimg.com/profile_images/896480580/...</td>\n",
       "      <td>M</td>\n",
       "      <td>46.0</td>\n",
       "      <td>(30, 100]</td>\n",
       "    </tr>\n",
       "    <tr>\n",
       "      <th>0</th>\n",
       "      <td>Narutofreak935</td>\n",
       "      <td>Avengar</td>\n",
       "      <td>@GrandlineTV gib nicht auf und mach dein Ding ...</td>\n",
       "      <td>http://pbs.twimg.com/profile_images/7317971734...</td>\n",
       "      <td>F</td>\n",
       "      <td>19.0</td>\n",
       "      <td>(10, 20]</td>\n",
       "    </tr>\n",
       "    <tr>\n",
       "      <th>0</th>\n",
       "      <td>miley_sarah</td>\n",
       "      <td>Sarah</td>\n",
       "      <td>RT @bomelino: Das \"Backe, backe Kuchen\"-Lied i...</td>\n",
       "      <td>http://pbs.twimg.com/profile_images/7584397626...</td>\n",
       "      <td>M</td>\n",
       "      <td>18.0</td>\n",
       "      <td>(10, 20]</td>\n",
       "    </tr>\n",
       "    <tr>\n",
       "      <th>0</th>\n",
       "      <td>DerIncubus</td>\n",
       "      <td>Der Incubus</td>\n",
       "      <td>@NicoleAllm Na ... gut ins neue Jahr gestartet...</td>\n",
       "      <td>http://pbs.twimg.com/profile_images/5808649200...</td>\n",
       "      <td>F</td>\n",
       "      <td>22.0</td>\n",
       "      <td>(20, 30]</td>\n",
       "    </tr>\n",
       "    <tr>\n",
       "      <th>0</th>\n",
       "      <td>Petouser</td>\n",
       "      <td>ペトユサ (Petoyusa)</td>\n",
       "      <td>Verschwörungstheorie: Pokemon Go wird von der ...</td>\n",
       "      <td>http://pbs.twimg.com/profile_images/6626943925...</td>\n",
       "      <td>M</td>\n",
       "      <td>26.0</td>\n",
       "      <td>(20, 30]</td>\n",
       "    </tr>\n",
       "    <tr>\n",
       "      <th>0</th>\n",
       "      <td>ChrisWhite126</td>\n",
       "      <td>Chris White</td>\n",
       "      <td>Ach du scheiße ist das warm. :( Hab locker 5kg...</td>\n",
       "      <td>http://pbs.twimg.com/profile_images/6463341220...</td>\n",
       "      <td>M</td>\n",
       "      <td>37.0</td>\n",
       "      <td>(30, 100]</td>\n",
       "    </tr>\n",
       "    <tr>\n",
       "      <th>0</th>\n",
       "      <td>MusicFreakFever</td>\n",
       "      <td>Nadine (:</td>\n",
       "      <td>Heute nur DREI (!) Schulstunden !\\n Ich LIIIIE...</td>\n",
       "      <td>http://pbs.twimg.com/profile_images/3788000003...</td>\n",
       "      <td>M</td>\n",
       "      <td>15.0</td>\n",
       "      <td>(10, 20]</td>\n",
       "    </tr>\n",
       "    <tr>\n",
       "      <th>0</th>\n",
       "      <td>LukasAlthoff</td>\n",
       "      <td>Luk Alt</td>\n",
       "      <td>RT @cem_oezdemir: #Pazar will mir eine Ehrenbü...</td>\n",
       "      <td>http://pbs.twimg.com/profile_images/5035102215...</td>\n",
       "      <td>F</td>\n",
       "      <td>30.0</td>\n",
       "      <td>(20, 30]</td>\n",
       "    </tr>\n",
       "  </tbody>\n",
       "</table>\n",
       "</div>"
      ],
      "text/plain": [
       "       screen_name             name  \\\n",
       "0        DatZerooo            David   \n",
       "0          reap705      Oliver Gast   \n",
       "0          eduUu06            eduUu   \n",
       "0   Narutofreak935          Avengar   \n",
       "0      miley_sarah            Sarah   \n",
       "0       DerIncubus      Der Incubus   \n",
       "0         Petouser  ペトユサ (Petoyusa)   \n",
       "0    ChrisWhite126      Chris White   \n",
       "0  MusicFreakFever        Nadine (:   \n",
       "0     LukasAlthoff          Luk Alt   \n",
       "\n",
       "                                 tweets_concatenated  \\\n",
       "0  Warum riecht mein Bruder nach Pizza wenn er ei...   \n",
       "0  [CSS] Ein Off-canvas-Menü mit Dropdown-Navigat...   \n",
       "0  heut abend kogge und morgen endlich haare ab :...   \n",
       "0  @GrandlineTV gib nicht auf und mach dein Ding ...   \n",
       "0  RT @bomelino: Das \"Backe, backe Kuchen\"-Lied i...   \n",
       "0  @NicoleAllm Na ... gut ins neue Jahr gestartet...   \n",
       "0  Verschwörungstheorie: Pokemon Go wird von der ...   \n",
       "0  Ach du scheiße ist das warm. :( Hab locker 5kg...   \n",
       "0  Heute nur DREI (!) Schulstunden !\\n Ich LIIIIE...   \n",
       "0  RT @cem_oezdemir: #Pazar will mir eine Ehrenbü...   \n",
       "\n",
       "                                          avatar_url gender   age  age_class  \n",
       "0  http://pbs.twimg.com/profile_images/7569661512...      M  16.0   (10, 20]  \n",
       "0  http://pbs.twimg.com/profile_images/1366984169...      M  15.0   (10, 20]  \n",
       "0  http://pbs.twimg.com/profile_images/896480580/...      M  46.0  (30, 100]  \n",
       "0  http://pbs.twimg.com/profile_images/7317971734...      F  19.0   (10, 20]  \n",
       "0  http://pbs.twimg.com/profile_images/7584397626...      M  18.0   (10, 20]  \n",
       "0  http://pbs.twimg.com/profile_images/5808649200...      F  22.0   (20, 30]  \n",
       "0  http://pbs.twimg.com/profile_images/6626943925...      M  26.0   (20, 30]  \n",
       "0  http://pbs.twimg.com/profile_images/6463341220...      M  37.0  (30, 100]  \n",
       "0  http://pbs.twimg.com/profile_images/3788000003...      M  15.0   (10, 20]  \n",
       "0  http://pbs.twimg.com/profile_images/5035102215...      F  30.0   (20, 30]  "
      ]
     },
     "execution_count": 9,
     "metadata": {},
     "output_type": "execute_result"
    }
   ],
   "source": [
    "bins = pd.IntervalIndex.from_tuples([(0,10),(10,20),(20,30),(30,100)])\n",
    "data['age_class'] = pd.cut(data['age'],bins = bins)\n",
    "data.head(10)"
   ]
  },
  {
   "cell_type": "markdown",
   "metadata": {},
   "source": [
    "Coddify age intervalls."
   ]
  },
  {
   "cell_type": "code",
   "execution_count": 10,
   "metadata": {},
   "outputs": [
    {
     "data": {
      "text/html": [
       "<div>\n",
       "<style scoped>\n",
       "    .dataframe tbody tr th:only-of-type {\n",
       "        vertical-align: middle;\n",
       "    }\n",
       "\n",
       "    .dataframe tbody tr th {\n",
       "        vertical-align: top;\n",
       "    }\n",
       "\n",
       "    .dataframe thead th {\n",
       "        text-align: right;\n",
       "    }\n",
       "</style>\n",
       "<table border=\"1\" class=\"dataframe\">\n",
       "  <thead>\n",
       "    <tr style=\"text-align: right;\">\n",
       "      <th></th>\n",
       "      <th>screen_name</th>\n",
       "      <th>name</th>\n",
       "      <th>tweets_concatenated</th>\n",
       "      <th>avatar_url</th>\n",
       "      <th>gender</th>\n",
       "      <th>age</th>\n",
       "      <th>age_class</th>\n",
       "    </tr>\n",
       "  </thead>\n",
       "  <tbody>\n",
       "    <tr>\n",
       "      <th>0</th>\n",
       "      <td>DatZerooo</td>\n",
       "      <td>David</td>\n",
       "      <td>Warum riecht mein Bruder nach Pizza wenn er ei...</td>\n",
       "      <td>http://pbs.twimg.com/profile_images/7569661512...</td>\n",
       "      <td>M</td>\n",
       "      <td>16.0</td>\n",
       "      <td>1</td>\n",
       "    </tr>\n",
       "    <tr>\n",
       "      <th>0</th>\n",
       "      <td>reap705</td>\n",
       "      <td>Oliver Gast</td>\n",
       "      <td>[CSS] Ein Off-canvas-Menü mit Dropdown-Navigat...</td>\n",
       "      <td>http://pbs.twimg.com/profile_images/1366984169...</td>\n",
       "      <td>M</td>\n",
       "      <td>15.0</td>\n",
       "      <td>1</td>\n",
       "    </tr>\n",
       "    <tr>\n",
       "      <th>0</th>\n",
       "      <td>eduUu06</td>\n",
       "      <td>eduUu</td>\n",
       "      <td>heut abend kogge und morgen endlich haare ab :...</td>\n",
       "      <td>http://pbs.twimg.com/profile_images/896480580/...</td>\n",
       "      <td>M</td>\n",
       "      <td>46.0</td>\n",
       "      <td>3</td>\n",
       "    </tr>\n",
       "    <tr>\n",
       "      <th>0</th>\n",
       "      <td>Narutofreak935</td>\n",
       "      <td>Avengar</td>\n",
       "      <td>@GrandlineTV gib nicht auf und mach dein Ding ...</td>\n",
       "      <td>http://pbs.twimg.com/profile_images/7317971734...</td>\n",
       "      <td>F</td>\n",
       "      <td>19.0</td>\n",
       "      <td>1</td>\n",
       "    </tr>\n",
       "    <tr>\n",
       "      <th>0</th>\n",
       "      <td>miley_sarah</td>\n",
       "      <td>Sarah</td>\n",
       "      <td>RT @bomelino: Das \"Backe, backe Kuchen\"-Lied i...</td>\n",
       "      <td>http://pbs.twimg.com/profile_images/7584397626...</td>\n",
       "      <td>M</td>\n",
       "      <td>18.0</td>\n",
       "      <td>1</td>\n",
       "    </tr>\n",
       "    <tr>\n",
       "      <th>0</th>\n",
       "      <td>DerIncubus</td>\n",
       "      <td>Der Incubus</td>\n",
       "      <td>@NicoleAllm Na ... gut ins neue Jahr gestartet...</td>\n",
       "      <td>http://pbs.twimg.com/profile_images/5808649200...</td>\n",
       "      <td>F</td>\n",
       "      <td>22.0</td>\n",
       "      <td>2</td>\n",
       "    </tr>\n",
       "    <tr>\n",
       "      <th>0</th>\n",
       "      <td>Petouser</td>\n",
       "      <td>ペトユサ (Petoyusa)</td>\n",
       "      <td>Verschwörungstheorie: Pokemon Go wird von der ...</td>\n",
       "      <td>http://pbs.twimg.com/profile_images/6626943925...</td>\n",
       "      <td>M</td>\n",
       "      <td>26.0</td>\n",
       "      <td>2</td>\n",
       "    </tr>\n",
       "    <tr>\n",
       "      <th>0</th>\n",
       "      <td>ChrisWhite126</td>\n",
       "      <td>Chris White</td>\n",
       "      <td>Ach du scheiße ist das warm. :( Hab locker 5kg...</td>\n",
       "      <td>http://pbs.twimg.com/profile_images/6463341220...</td>\n",
       "      <td>M</td>\n",
       "      <td>37.0</td>\n",
       "      <td>3</td>\n",
       "    </tr>\n",
       "    <tr>\n",
       "      <th>0</th>\n",
       "      <td>MusicFreakFever</td>\n",
       "      <td>Nadine (:</td>\n",
       "      <td>Heute nur DREI (!) Schulstunden !\\n Ich LIIIIE...</td>\n",
       "      <td>http://pbs.twimg.com/profile_images/3788000003...</td>\n",
       "      <td>M</td>\n",
       "      <td>15.0</td>\n",
       "      <td>1</td>\n",
       "    </tr>\n",
       "    <tr>\n",
       "      <th>0</th>\n",
       "      <td>LukasAlthoff</td>\n",
       "      <td>Luk Alt</td>\n",
       "      <td>RT @cem_oezdemir: #Pazar will mir eine Ehrenbü...</td>\n",
       "      <td>http://pbs.twimg.com/profile_images/5035102215...</td>\n",
       "      <td>F</td>\n",
       "      <td>30.0</td>\n",
       "      <td>2</td>\n",
       "    </tr>\n",
       "  </tbody>\n",
       "</table>\n",
       "</div>"
      ],
      "text/plain": [
       "       screen_name             name  \\\n",
       "0        DatZerooo            David   \n",
       "0          reap705      Oliver Gast   \n",
       "0          eduUu06            eduUu   \n",
       "0   Narutofreak935          Avengar   \n",
       "0      miley_sarah            Sarah   \n",
       "0       DerIncubus      Der Incubus   \n",
       "0         Petouser  ペトユサ (Petoyusa)   \n",
       "0    ChrisWhite126      Chris White   \n",
       "0  MusicFreakFever        Nadine (:   \n",
       "0     LukasAlthoff          Luk Alt   \n",
       "\n",
       "                                 tweets_concatenated  \\\n",
       "0  Warum riecht mein Bruder nach Pizza wenn er ei...   \n",
       "0  [CSS] Ein Off-canvas-Menü mit Dropdown-Navigat...   \n",
       "0  heut abend kogge und morgen endlich haare ab :...   \n",
       "0  @GrandlineTV gib nicht auf und mach dein Ding ...   \n",
       "0  RT @bomelino: Das \"Backe, backe Kuchen\"-Lied i...   \n",
       "0  @NicoleAllm Na ... gut ins neue Jahr gestartet...   \n",
       "0  Verschwörungstheorie: Pokemon Go wird von der ...   \n",
       "0  Ach du scheiße ist das warm. :( Hab locker 5kg...   \n",
       "0  Heute nur DREI (!) Schulstunden !\\n Ich LIIIIE...   \n",
       "0  RT @cem_oezdemir: #Pazar will mir eine Ehrenbü...   \n",
       "\n",
       "                                          avatar_url gender   age  age_class  \n",
       "0  http://pbs.twimg.com/profile_images/7569661512...      M  16.0          1  \n",
       "0  http://pbs.twimg.com/profile_images/1366984169...      M  15.0          1  \n",
       "0  http://pbs.twimg.com/profile_images/896480580/...      M  46.0          3  \n",
       "0  http://pbs.twimg.com/profile_images/7317971734...      F  19.0          1  \n",
       "0  http://pbs.twimg.com/profile_images/7584397626...      M  18.0          1  \n",
       "0  http://pbs.twimg.com/profile_images/5808649200...      F  22.0          2  \n",
       "0  http://pbs.twimg.com/profile_images/6626943925...      M  26.0          2  \n",
       "0  http://pbs.twimg.com/profile_images/6463341220...      M  37.0          3  \n",
       "0  http://pbs.twimg.com/profile_images/3788000003...      M  15.0          1  \n",
       "0  http://pbs.twimg.com/profile_images/5035102215...      F  30.0          2  "
      ]
     },
     "execution_count": 10,
     "metadata": {},
     "output_type": "execute_result"
    }
   ],
   "source": [
    "data['age_class'] = data['age_class'].astype('category')\n",
    "data['age_class'] = data['age_class'].cat.codes\n",
    "\n",
    "data.head(10)"
   ]
  },
  {
   "cell_type": "markdown",
   "metadata": {},
   "source": [
    "Split data set into two train data sets and one test data set."
   ]
  },
  {
   "cell_type": "code",
   "execution_count": 11,
   "metadata": {},
   "outputs": [],
   "source": [
    "trainSub, tempData = train_test_split(data, test_size = 0.3, random_state = 0)\n",
    "trainMeta, test = train_test_split(tempData,test_size = 0.3, random_state = 0)"
   ]
  },
  {
   "cell_type": "markdown",
   "metadata": {},
   "source": [
    "Get tweet data."
   ]
  },
  {
   "cell_type": "code",
   "execution_count": 12,
   "metadata": {},
   "outputs": [],
   "source": [
    "trainSub_tweets = trainSub['tweets_concatenated']\n",
    "trainMeta_tweets = trainMeta['tweets_concatenated']\n",
    "test_tweets = test['tweets_concatenated']"
   ]
  },
  {
   "cell_type": "markdown",
   "metadata": {},
   "source": [
    "Get name data."
   ]
  },
  {
   "cell_type": "code",
   "execution_count": 13,
   "metadata": {},
   "outputs": [],
   "source": [
    "trainSub_name = trainSub['name']\n",
    "trainMeta_name = trainMeta['name']\n",
    "test_name = test['name']"
   ]
  },
  {
   "cell_type": "markdown",
   "metadata": {},
   "source": [
    "Get target data."
   ]
  },
  {
   "cell_type": "code",
   "execution_count": 14,
   "metadata": {},
   "outputs": [],
   "source": [
    "y_trainSub = trainSub['age_class']\n",
    "y_trainMeta = trainMeta['age_class']\n",
    "y_test = test['age_class']"
   ]
  },
  {
   "cell_type": "markdown",
   "metadata": {},
   "source": [
    "  "
   ]
  },
  {
   "cell_type": "markdown",
   "metadata": {},
   "source": [
    "### Task 1 - Classifier based on tweets"
   ]
  },
  {
   "cell_type": "markdown",
   "metadata": {},
   "source": [
    "Vectorize tweet data."
   ]
  },
  {
   "cell_type": "code",
   "execution_count": 15,
   "metadata": {},
   "outputs": [],
   "source": [
    "vect = CountVectorizer()\n",
    "vect_sub = vect.fit_transform(trainSub_tweets)\n",
    "vect_meta = vect.transform(trainMeta_tweets)\n",
    "vect_test = vect.transform(test_tweets)"
   ]
  },
  {
   "cell_type": "markdown",
   "metadata": {},
   "source": [
    "Train classifier on the tweet data and predict users' age."
   ]
  },
  {
   "cell_type": "code",
   "execution_count": 16,
   "metadata": {},
   "outputs": [
    {
     "name": "stderr",
     "output_type": "stream",
     "text": [
      "C:\\Users\\Tim Bo\\Anaconda3\\lib\\site-packages\\sklearn\\svm\\base.py:196: FutureWarning: The default value of gamma will change from 'auto' to 'scale' in version 0.22 to account better for unscaled features. Set gamma explicitly to 'auto' or 'scale' to avoid this warning.\n",
      "  \"avoid this warning.\", FutureWarning)\n"
     ]
    },
    {
     "name": "stdout",
     "output_type": "stream",
     "text": [
      "Tweet Score is: 62.14%\n"
     ]
    }
   ],
   "source": [
    "bayes_tweets = SVC()\n",
    "bayes_tweets.fit(vect_sub,y_trainSub)\n",
    "tweet_score = bayes_tweets.score(vect_test,y_test)\n",
    "tweet_score_text = 'Tweet Score is: {:0.2%}'.format(tweet_score)\n",
    "print(tweet_score_text)"
   ]
  },
  {
   "cell_type": "markdown",
   "metadata": {},
   "source": [
    "Store output needed for meta classifier."
   ]
  },
  {
   "cell_type": "code",
   "execution_count": 17,
   "metadata": {},
   "outputs": [],
   "source": [
    "stacked_input1 = pd.Series(bayes_tweets.predict(vect_meta))\n",
    "stacked_input1_test = pd.Series(bayes_tweets.predict(vect_test))"
   ]
  },
  {
   "cell_type": "markdown",
   "metadata": {},
   "source": [
    "### Task 2 - Classifier based on the names"
   ]
  },
  {
   "cell_type": "markdown",
   "metadata": {},
   "source": [
    "Vectorize name data."
   ]
  },
  {
   "cell_type": "code",
   "execution_count": 18,
   "metadata": {},
   "outputs": [],
   "source": [
    "vect2 = CountVectorizer()\n",
    "vect_sub_name = vect.fit_transform(trainSub_name)\n",
    "vect_meta_name = vect.transform(trainMeta_name)\n",
    "vect_test_name = vect.transform(test_name)"
   ]
  },
  {
   "cell_type": "markdown",
   "metadata": {},
   "source": [
    "Train Classifier on the name data and predict users' age."
   ]
  },
  {
   "cell_type": "code",
   "execution_count": 19,
   "metadata": {},
   "outputs": [
    {
     "name": "stdout",
     "output_type": "stream",
     "text": [
      "Name Score is: 65.05%\n"
     ]
    }
   ],
   "source": [
    "bayes_names = MultinomialNB()\n",
    "bayes_names.fit(vect_sub_name,y_trainSub)\n",
    "name_score = bayes_names.score(vect_test_name,y_test)\n",
    "name_score_text = 'Name Score is: {:0.2%}'.format(name_score)\n",
    "print(name_score_text)"
   ]
  },
  {
   "cell_type": "markdown",
   "metadata": {},
   "source": [
    "Store output needed for meta classifier."
   ]
  },
  {
   "cell_type": "code",
   "execution_count": 20,
   "metadata": {},
   "outputs": [],
   "source": [
    "stacked_input2 = pd.Series(bayes_names.predict(vect_meta_name))\n",
    "stacked_input2_test = pd.Series(bayes_names.predict(vect_test_name))"
   ]
  },
  {
   "cell_type": "markdown",
   "metadata": {},
   "source": [
    "### Task 3 - Meta Classifier"
   ]
  },
  {
   "cell_type": "markdown",
   "metadata": {},
   "source": [
    "Ininitialize a RandomForestClassifier as meta classifier."
   ]
  },
  {
   "cell_type": "code",
   "execution_count": 21,
   "metadata": {},
   "outputs": [],
   "source": [
    "rfc = RandomForestClassifier(n_estimators = 100, random_state = 0)"
   ]
  },
  {
   "cell_type": "markdown",
   "metadata": {},
   "source": [
    "Combine outpouts from task 1 and 2 to DataFrames."
   ]
  },
  {
   "cell_type": "code",
   "execution_count": 22,
   "metadata": {},
   "outputs": [],
   "source": [
    "meta_data_train = {'input1': stacked_input1,\n",
    "                   'input2': stacked_input2}\n",
    "meta_data_train = pd.DataFrame(meta_data_train)\n",
    "\n",
    "meta_data_test = {'input1': stacked_input1_test,\n",
    "                  'input2': stacked_input2_test}\n",
    "meta_data_test = pd.DataFrame(meta_data_test)"
   ]
  },
  {
   "cell_type": "markdown",
   "metadata": {},
   "source": [
    "Train Classifier on the meta data and make predictions."
   ]
  },
  {
   "cell_type": "code",
   "execution_count": 23,
   "metadata": {},
   "outputs": [],
   "source": [
    "rfc.fit(meta_data_train,y_trainMeta)\n",
    "meta_score = rfc.score(meta_data_test,y_test)\n",
    "name_score_text2 = 'Meta Score is: {:0.2%}'.format(meta_score)"
   ]
  },
  {
   "cell_type": "markdown",
   "metadata": {},
   "source": [
    "Performance of all Classifiers:"
   ]
  },
  {
   "cell_type": "code",
   "execution_count": 24,
   "metadata": {},
   "outputs": [
    {
     "name": "stdout",
     "output_type": "stream",
     "text": [
      "Tweet Score is: 62.14%\n",
      "Name Score is: 65.05%\n",
      "Meta Score is: 64.08%\n"
     ]
    }
   ],
   "source": [
    "print(tweet_score_text)\n",
    "print(name_score_text)\n",
    "print(name_score_text2)"
   ]
  }
 ],
 "metadata": {
  "kernelspec": {
   "display_name": "Python 3",
   "language": "python",
   "name": "python3"
  },
  "language_info": {
   "codemirror_mode": {
    "name": "ipython",
    "version": 3
   },
   "file_extension": ".py",
   "mimetype": "text/x-python",
   "name": "python",
   "nbconvert_exporter": "python",
   "pygments_lexer": "ipython3",
   "version": "3.7.0"
  }
 },
 "nbformat": 4,
 "nbformat_minor": 2
}
