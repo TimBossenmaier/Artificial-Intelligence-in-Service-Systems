{
 "cells": [
  {
   "cell_type": "markdown",
   "metadata": {},
   "source": [
    "# Homework 4 - Concept Drift"
   ]
  },
  {
   "cell_type": "markdown",
   "metadata": {},
   "source": [
    "Load the SEA dataset (\"sea.csv\"). It has three features and one target column\n",
    "\n",
    "## Tasks\n",
    "1. Train a SVM classifier (gamma = 0.01) with the first 10000 samples of the stream. Subsequently, evaluate it on the remaining data instances. What performance do you achieve on the train and the test set?\n",
    "* Implement a Page Hinkley change detection on the datastream. Again use the first 10000 data instances for the first model training. Retraing the model when a change is detected. How many drifts do you detect in the data? Plot the score curve\n",
    "* Perform a grid search on the whole dataset with the following paramters:  <br /> <br />  **Page-Hinkley:** lambda = [0.01, 0.05, 0.1]  <br /> **SVM:** svm_gamma = [0.01, 0.1, 1]  <br /> <br /> Use the first 10000 samples for the initial training and then a batch-size of 1000 samples for iterative evaluation. Print the prediction accuracy for each parameter pair. What is the best parameter pair? *Hint: You have to implement GridSearch manually.*"
   ]
  },
  {
   "cell_type": "markdown",
   "metadata": {},
   "source": [
    "<i>**Please make sure:**\n",
    "\n",
    "- each cell (essential step) is commented on with a short sentence\n",
    "- new variables / fields are output in sufficient length (e.g., df.head (10))\n",
    "- each of the tasks is answered with a short written statement\n",
    "\n",
    "This makes the evaluation much easier and, thus, would help us a lot.</i>"
   ]
  },
  {
   "cell_type": "markdown",
   "metadata": {},
   "source": [
    "### Preparation for all tasks"
   ]
  },
  {
   "cell_type": "code",
   "execution_count": 1,
   "metadata": {},
   "outputs": [],
   "source": [
    "#import the data from the CSV\n",
    "import pandas as pd\n",
    "data = pd.read_csv(\"./Data/sea.csv\")"
   ]
  },
  {
   "cell_type": "code",
   "execution_count": 2,
   "metadata": {},
   "outputs": [
    {
     "data": {
      "text/plain": [
       "(60000, 4)"
      ]
     },
     "execution_count": 2,
     "metadata": {},
     "output_type": "execute_result"
    }
   ],
   "source": [
    "#get information about size of data\n",
    "data.shape"
   ]
  },
  {
   "cell_type": "code",
   "execution_count": 3,
   "metadata": {},
   "outputs": [
    {
     "data": {
      "text/html": [
       "<div>\n",
       "<style scoped>\n",
       "    .dataframe tbody tr th:only-of-type {\n",
       "        vertical-align: middle;\n",
       "    }\n",
       "\n",
       "    .dataframe tbody tr th {\n",
       "        vertical-align: top;\n",
       "    }\n",
       "\n",
       "    .dataframe thead th {\n",
       "        text-align: right;\n",
       "    }\n",
       "</style>\n",
       "<table border=\"1\" class=\"dataframe\">\n",
       "  <thead>\n",
       "    <tr style=\"text-align: right;\">\n",
       "      <th></th>\n",
       "      <th>feat1</th>\n",
       "      <th>feat2</th>\n",
       "      <th>feat3</th>\n",
       "      <th>label</th>\n",
       "    </tr>\n",
       "  </thead>\n",
       "  <tbody>\n",
       "    <tr>\n",
       "      <th>23435</th>\n",
       "      <td>9.112800</td>\n",
       "      <td>0.747325</td>\n",
       "      <td>3.248731</td>\n",
       "      <td>0</td>\n",
       "    </tr>\n",
       "    <tr>\n",
       "      <th>21304</th>\n",
       "      <td>9.032576</td>\n",
       "      <td>5.060552</td>\n",
       "      <td>7.072368</td>\n",
       "      <td>1</td>\n",
       "    </tr>\n",
       "    <tr>\n",
       "      <th>28524</th>\n",
       "      <td>8.003439</td>\n",
       "      <td>3.794034</td>\n",
       "      <td>4.588942</td>\n",
       "      <td>0</td>\n",
       "    </tr>\n",
       "    <tr>\n",
       "      <th>34915</th>\n",
       "      <td>4.153773</td>\n",
       "      <td>4.195701</td>\n",
       "      <td>5.362845</td>\n",
       "      <td>1</td>\n",
       "    </tr>\n",
       "    <tr>\n",
       "      <th>1137</th>\n",
       "      <td>7.412147</td>\n",
       "      <td>8.870709</td>\n",
       "      <td>2.364874</td>\n",
       "      <td>0</td>\n",
       "    </tr>\n",
       "    <tr>\n",
       "      <th>39301</th>\n",
       "      <td>9.682734</td>\n",
       "      <td>7.550911</td>\n",
       "      <td>7.700682</td>\n",
       "      <td>1</td>\n",
       "    </tr>\n",
       "    <tr>\n",
       "      <th>9379</th>\n",
       "      <td>2.051415</td>\n",
       "      <td>4.280918</td>\n",
       "      <td>5.661359</td>\n",
       "      <td>1</td>\n",
       "    </tr>\n",
       "    <tr>\n",
       "      <th>14368</th>\n",
       "      <td>7.735036</td>\n",
       "      <td>3.294001</td>\n",
       "      <td>5.823220</td>\n",
       "      <td>1</td>\n",
       "    </tr>\n",
       "    <tr>\n",
       "      <th>41218</th>\n",
       "      <td>9.505535</td>\n",
       "      <td>9.345448</td>\n",
       "      <td>6.900374</td>\n",
       "      <td>1</td>\n",
       "    </tr>\n",
       "    <tr>\n",
       "      <th>56182</th>\n",
       "      <td>3.698431</td>\n",
       "      <td>5.689075</td>\n",
       "      <td>7.389386</td>\n",
       "      <td>1</td>\n",
       "    </tr>\n",
       "  </tbody>\n",
       "</table>\n",
       "</div>"
      ],
      "text/plain": [
       "          feat1     feat2     feat3  label\n",
       "23435  9.112800  0.747325  3.248731      0\n",
       "21304  9.032576  5.060552  7.072368      1\n",
       "28524  8.003439  3.794034  4.588942      0\n",
       "34915  4.153773  4.195701  5.362845      1\n",
       "1137   7.412147  8.870709  2.364874      0\n",
       "39301  9.682734  7.550911  7.700682      1\n",
       "9379   2.051415  4.280918  5.661359      1\n",
       "14368  7.735036  3.294001  5.823220      1\n",
       "41218  9.505535  9.345448  6.900374      1\n",
       "56182  3.698431  5.689075  7.389386      1"
      ]
     },
     "execution_count": 3,
     "metadata": {},
     "output_type": "execute_result"
    }
   ],
   "source": [
    "#gain impressions how the data are set up\n",
    "data.sample(10)"
   ]
  },
  {
   "cell_type": "markdown",
   "metadata": {},
   "source": [
    "### Task 1"
   ]
  },
  {
   "cell_type": "markdown",
   "metadata": {},
   "source": [
    "Import the DataStream and initialize it."
   ]
  },
  {
   "cell_type": "code",
   "execution_count": 4,
   "metadata": {},
   "outputs": [],
   "source": [
    "from skmultiflow.data.data_stream import DataStream\n",
    "\n",
    "stream = DataStream(data = data)\n",
    "stream.prepare_for_use()\n"
   ]
  },
  {
   "cell_type": "markdown",
   "metadata": {},
   "source": [
    "Use the first 10000 samples as train data."
   ]
  },
  {
   "cell_type": "code",
   "execution_count": 5,
   "metadata": {},
   "outputs": [],
   "source": [
    "stream.restart()\n",
    "X_train, y_train = stream.next_sample(10000)"
   ]
  },
  {
   "cell_type": "markdown",
   "metadata": {},
   "source": [
    "Train a SupportVectorMachine Classifier according to the description."
   ]
  },
  {
   "cell_type": "code",
   "execution_count": 6,
   "metadata": {},
   "outputs": [
    {
     "data": {
      "text/plain": [
       "SVC(C=1.0, cache_size=200, class_weight=None, coef0=0.0,\n",
       "  decision_function_shape='ovr', degree=3, gamma=0.01, kernel='rbf',\n",
       "  max_iter=-1, probability=False, random_state=None, shrinking=True,\n",
       "  tol=0.001, verbose=False)"
      ]
     },
     "execution_count": 6,
     "metadata": {},
     "output_type": "execute_result"
    }
   ],
   "source": [
    "from sklearn.svm import SVC\n",
    "\n",
    "svc = SVC(gamma = 0.01)\n",
    "svc.fit(X_train,y_train)"
   ]
  },
  {
   "cell_type": "markdown",
   "metadata": {},
   "source": [
    "Use the trained classifier to predict the remained data in the stream."
   ]
  },
  {
   "cell_type": "code",
   "execution_count": 7,
   "metadata": {},
   "outputs": [],
   "source": [
    "X_test,y_test = stream.next_sample(50000)\n",
    "y_pred = svc.predict(X_test)"
   ]
  },
  {
   "cell_type": "markdown",
   "metadata": {},
   "source": [
    "Compute the train and test performance."
   ]
  },
  {
   "cell_type": "code",
   "execution_count": 8,
   "metadata": {},
   "outputs": [],
   "source": [
    "from sklearn import metrics\n",
    "test_score = 'Test Score: {:0.2%}'.format(metrics.f1_score(y_test, y_pred, average = 'weighted'))\n",
    "train_score = 'Train Score: {:0.2%}'.format(metrics.f1_score(svc.predict(X_train), \n",
    "                                                             y_train, average = 'weighted'))"
   ]
  },
  {
   "cell_type": "markdown",
   "metadata": {},
   "source": [
    "Print the achieved performances."
   ]
  },
  {
   "cell_type": "code",
   "execution_count": 9,
   "metadata": {},
   "outputs": [
    {
     "name": "stdout",
     "output_type": "stream",
     "text": [
      "Train Score: 88.15%\n",
      "Test Score: 82.78%\n"
     ]
    }
   ],
   "source": [
    "print(train_score)\n",
    "print(test_score)"
   ]
  },
  {
   "cell_type": "markdown",
   "metadata": {},
   "source": [
    "Classifier performed worse in test than in training data."
   ]
  },
  {
   "cell_type": "markdown",
   "metadata": {},
   "source": [
    "### Task 2"
   ]
  },
  {
   "cell_type": "markdown",
   "metadata": {},
   "source": [
    "Prepare the methods needed by the Page Hinkley algorithm according to the slides of the exercise."
   ]
  },
  {
   "cell_type": "code",
   "execution_count": 10,
   "metadata": {},
   "outputs": [],
   "source": [
    "def compute_ph_statistics(mean_score, ph_sum, score, ph_sum_list):\n",
    "    \n",
    "    mean_new = mean_score + ((score - mean_score)/ sample_count)    \n",
    "    ph_sum_new = ph_sum + (score - mean_new)\n",
    "    ph_sum_list.append(ph_sum_new) \n",
    "    statistic_max = max(ph_sum_list) - ph_sum_new\n",
    "    statistic_min = ph_sum_new -  min(ph_sum_list) \n",
    "    return (mean_new, ph_sum_new, ph_sum_list, statistic_max, statistic_min)"
   ]
  },
  {
   "cell_type": "code",
   "execution_count": 11,
   "metadata": {},
   "outputs": [],
   "source": [
    "# This function resets the values of the variables in case a drift is detected\n",
    "def reset_values():\n",
    "    ph_mean = 0\n",
    "    ph_sum = 0\n",
    "    ph_sum_list = []\n",
    "    sample_count = 1\n",
    "    return(ph_mean, ph_sum, ph_sum_list, sample_count)"
   ]
  },
  {
   "cell_type": "markdown",
   "metadata": {},
   "source": [
    "Reuse the stream from task 1."
   ]
  },
  {
   "cell_type": "code",
   "execution_count": 23,
   "metadata": {},
   "outputs": [],
   "source": [
    "stream.restart()\n"
   ]
  },
  {
   "cell_type": "markdown",
   "metadata": {},
   "source": [
    "Initialize a SVM Classifier like in task 1."
   ]
  },
  {
   "cell_type": "code",
   "execution_count": 24,
   "metadata": {},
   "outputs": [],
   "source": [
    "svc_2 = SVC(gamma = 0.01)"
   ]
  },
  {
   "cell_type": "markdown",
   "metadata": {},
   "source": [
    "Set initial values and the threshold for change detection."
   ]
  },
  {
   "cell_type": "code",
   "execution_count": 25,
   "metadata": {},
   "outputs": [],
   "source": [
    "ph_mean = 0\n",
    "ph_sum = 0\n",
    "sample_count = 1\n",
    "ph_sum_list = []\n",
    "ph_score_list = []\n",
    "lmbd=2"
   ]
  },
  {
   "cell_type": "markdown",
   "metadata": {},
   "source": [
    "Train the classifier on the first 10 000 samples."
   ]
  },
  {
   "cell_type": "code",
   "execution_count": 26,
   "metadata": {},
   "outputs": [
    {
     "data": {
      "text/plain": [
       "SVC(C=1.0, cache_size=200, class_weight=None, coef0=0.0,\n",
       "  decision_function_shape='ovr', degree=3, gamma=0.01, kernel='rbf',\n",
       "  max_iter=-1, probability=False, random_state=None, shrinking=True,\n",
       "  tol=0.001, verbose=False)"
      ]
     },
     "execution_count": 26,
     "metadata": {},
     "output_type": "execute_result"
    }
   ],
   "source": [
    "X_train, y_train = stream.next_sample(10000)\n",
    "svc_2.fit(X_train, y_train)"
   ]
  },
  {
   "cell_type": "markdown",
   "metadata": {},
   "source": [
    "Using the Page Hinkley algorithm to detect changes in streamed data in sets of 1000."
   ]
  },
  {
   "cell_type": "code",
   "execution_count": 27,
   "metadata": {},
   "outputs": [
    {
     "name": "stdout",
     "output_type": "stream",
     "text": [
      "Drift detected in sample 30\n",
      "Drift detected in sample 31\n",
      "Drift detected in sample 32\n",
      "Drift detected in sample 33\n",
      "Drift detected in sample 34\n",
      "Drift detected in sample 35\n",
      "Drift detected in sample 36\n",
      "Drift detected in sample 37\n",
      "Drift detected in sample 38\n",
      "Drift detected in sample 39\n",
      "Drift detected in sample 40\n",
      "Drift detected in sample 41\n",
      "Drift detected in sample 42\n",
      "Drift detected in sample 43\n",
      "Drift detected in sample 44\n",
      "Drift detected in sample 45\n",
      "Drift detected in sample 46\n",
      "Drift detected in sample 47\n",
      "Drift detected in sample 48\n",
      "Drift detected in sample 49\n",
      "Drifts detected in total: 20\n"
     ]
    }
   ],
   "source": [
    "drift_count = 0\n",
    "for i in range(50):\n",
    "    X_test, y_test = stream.next_sample(1000)\n",
    "    sample_count = sample_count + 1 \n",
    "    score = svc_2.score(X_test, y_test)\n",
    "    ph_score_list.append(score)\n",
    "    ph_mean,ph_sum,ph_sum_list,s_max,s_min = compute_ph_statistics(ph_mean,ph_sum,score,ph_sum_list)\n",
    "   \n",
    "    if (s_max or s_min) > lmbd:\n",
    "        print(\"Drift detected in sample\", i)\n",
    "        drift_count += 1\n",
    "        ph_mean,ph_sum_,Ph_sum_list,sample_count = reset_values()\n",
    "        svc_2.fit(X_test,y_test)\n",
    "print('Drifts detected in total:', drift_count)"
   ]
  },
  {
   "cell_type": "markdown",
   "metadata": {},
   "source": [
    "For the chosen lambda twenty drifts are detected.\n",
    "\n",
    "\n"
   ]
  },
  {
   "cell_type": "markdown",
   "metadata": {},
   "source": [
    " "
   ]
  },
  {
   "cell_type": "markdown",
   "metadata": {},
   "source": [
    "Plot the score curve and the achieved accuracy on average."
   ]
  },
  {
   "cell_type": "code",
   "execution_count": 28,
   "metadata": {},
   "outputs": [
    {
     "data": {
      "image/png": "[encoded data removed]",
      "text/plain": [
       "<Figure size 432x288 with 1 Axes>"
      ]
     },
     "metadata": {
      "needs_background": "light"
     },
     "output_type": "display_data"
    },
    {
     "name": "stdout",
     "output_type": "stream",
     "text": [
      "Accuracy: 84.88%\n"
     ]
    }
   ],
   "source": [
    "import matplotlib.pyplot as plt\n",
    "import numpy as np\n",
    "plt.figure()\n",
    "plt.plot(ph_score_list)\n",
    "plt.show()\n",
    "print('Accuracy: {:0.2%}'.format(np.mean(ph_score_list)))"
   ]
  },
  {
   "cell_type": "markdown",
   "metadata": {},
   "source": [
    "### Task 3"
   ]
  },
  {
   "cell_type": "markdown",
   "metadata": {},
   "source": [
    "Set the param grids."
   ]
  },
  {
   "cell_type": "code",
   "execution_count": 33,
   "metadata": {},
   "outputs": [],
   "source": [
    "svm_gamma = [0.01, 0.1, 1] "
   ]
  },
  {
   "cell_type": "code",
   "execution_count": 34,
   "metadata": {},
   "outputs": [],
   "source": [
    "#adapted lambdas according to the post in ILIAS\n",
    "param_lambda = [0.1, 0.2, 0.3] "
   ]
  },
  {
   "cell_type": "markdown",
   "metadata": {},
   "source": [
    "For each combination of gamma and lambda perform the Page Hinkley algorithm and compare the achieved accuracy."
   ]
  },
  {
   "cell_type": "code",
   "execution_count": 35,
   "metadata": {},
   "outputs": [
    {
     "name": "stdout",
     "output_type": "stream",
     "text": [
      "Accuracy: 86.69% with gamma = 0.01 and lambda =  0.1\n",
      "Accuracy: 86.56% with gamma = 0.01 and lambda =  0.2\n",
      "Accuracy: 86.52% with gamma = 0.01 and lambda =  0.3\n",
      "Accuracy: 87.25% with gamma = 0.1 and lambda =  0.1\n",
      "Accuracy: 87.04% with gamma = 0.1 and lambda =  0.2\n",
      "Accuracy: 86.97% with gamma = 0.1 and lambda =  0.3\n",
      "Accuracy: 85.97% with gamma = 1 and lambda =  0.1\n",
      "Accuracy: 85.66% with gamma = 1 and lambda =  0.2\n",
      "Accuracy: 85.60% with gamma = 1 and lambda =  0.3\n"
     ]
    }
   ],
   "source": [
    "results = []\n",
    "for gam in svm_gamma:\n",
    "    stream.restart()\n",
    "    X_train, y_train = stream.next_sample(10000)\n",
    "    svc = SVC(gamma = gam)\n",
    "    svc.fit(X_train,y_train)\n",
    "    \n",
    "    for lamb in param_lambda:\n",
    "        ph_mean = 0\n",
    "        ph_sum = 0\n",
    "        sample_count = 1\n",
    "        lmbd = lamb\n",
    "        ph_sum_list = []\n",
    "        ph_score_list = []\n",
    "        drift_count = 0\n",
    "        for i in range(50):\n",
    "            X_test, y_test = stream.next_sample(1000)\n",
    "            sample_count = sample_count + 1 \n",
    "            score = svc.score(X_test, y_test)\n",
    "            ph_score_list.append(score)    \n",
    "            # Use function above to compute S(max) and S(min). \n",
    "            # Afterwards compare these values to lambda in order to decide whether a drift has happened\n",
    "            ph_mean,ph_sum,ph_sum_list,s_max,s_min = compute_ph_statistics(ph_mean,ph_sum,score,ph_sum_list)\n",
    "   \n",
    "            if (s_max or s_min) > lmbd:\n",
    "                ph_mean,ph_sum_,Ph_sum_list,sample_count = reset_values()\n",
    "                svc.fit(X_test,y_test)\n",
    "        print('Accuracy: {:0.2%}'.format( np.mean(ph_score_list)), 'with gamma =',gam,'and lambda = ', lamb)\n",
    "        results.append(np.mean(ph_score_list))\n",
    "        stream.restart()\n",
    "        temp = stream.next_sample(10000)"
   ]
  },
  {
   "cell_type": "code",
   "execution_count": 36,
   "metadata": {},
   "outputs": [
    {
     "name": "stdout",
     "output_type": "stream",
     "text": [
      "Best combination of parameters: Gamma = 0.1 and Lambda = 0.1\n",
      "Achieved Accuracy: 87.25%\n"
     ]
    }
   ],
   "source": [
    "dct = {0:'Gamma = 0.01 and Lambda = 0.1',\n",
    "       1:'Gamma = 0.01 and Lambda = 0.2',\n",
    "       2:'Gamma = 0.01 and Lambda = 0.3',\n",
    "       3:'Gamma = 0.1 and Lambda = 0.1',\n",
    "       4:'Gamma = 0.1 and Lambda = 0.2',\n",
    "       5:'Gamma = 0.1 and Lambda = 0.3',\n",
    "       6:'Gamma = 1 and Lambda = 0.1',\n",
    "       7:'Gamma = 1 and Lambda = 0.2',\n",
    "       8:'Gamma = 1 and Lambda = 0.3'}\n",
    "best_grid = max(results)\n",
    "print('Best combination of parameters: ' + dct[results.index(best_grid)])\n",
    "print('Achieved Accuracy: {:0.2%}'.format(max(results)))"
   ]
  }
 ],
 "metadata": {
  "kernelspec": {
   "display_name": "Python 3",
   "language": "python",
   "name": "python3"
  },
  "language_info": {
   "codemirror_mode": {
    "name": "ipython",
    "version": 3
   },
   "file_extension": ".py",
   "mimetype": "text/x-python",
   "name": "python",
   "nbconvert_exporter": "python",
   "pygments_lexer": "ipython3",
   "version": "3.7.0"
  }
 },
 "nbformat": 4,
 "nbformat_minor": 2
}
