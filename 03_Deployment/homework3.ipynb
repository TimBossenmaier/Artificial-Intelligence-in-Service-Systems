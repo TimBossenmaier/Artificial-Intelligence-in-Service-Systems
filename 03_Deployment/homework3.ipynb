{
 "cells": [
  {
   "cell_type": "markdown",
   "metadata": {},
   "source": [
    "# Homework 3 – Deployment"
   ]
  },
  {
   "cell_type": "markdown",
   "metadata": {},
   "source": [
    "## Tasks\n",
    "\n",
    "![Iris flower](./data/iris.png)\n",
    "\n",
    "1. Import Iris dataset from `./data/iris.csv`.\n",
    "* Create an endpoint `/train` which expects `n_estimators` and `max_depth` attributes of a Random Forest Classifier, trains a model using a Cross Validation, and returns the F1-Score, Precision, Recall and Accuracy.\n",
    "* Create an endpoint `/predict` which expects the four input features (sepal length, sepal width, petal length, petal width) and predicts as well as retuns the iris class using the model from above."
   ]
  },
  {
   "cell_type": "markdown",
   "metadata": {},
   "source": [
    "### Import the dataset"
   ]
  },
  {
   "cell_type": "code",
   "execution_count": 1,
   "metadata": {},
   "outputs": [],
   "source": [
    "import pandas as pd\n",
    "\n",
    "df = pd.read_csv('./data/iris.csv')"
   ]
  },
  {
   "cell_type": "code",
   "execution_count": 2,
   "metadata": {},
   "outputs": [
    {
     "data": {
      "text/plain": [
       "(150, 5)"
      ]
     },
     "execution_count": 2,
     "metadata": {},
     "output_type": "execute_result"
    }
   ],
   "source": [
    "df.shape"
   ]
  },
  {
   "cell_type": "code",
   "execution_count": 3,
   "metadata": {},
   "outputs": [
    {
     "data": {
      "text/html": [
       "<div>\n",
       "<style scoped>\n",
       "    .dataframe tbody tr th:only-of-type {\n",
       "        vertical-align: middle;\n",
       "    }\n",
       "\n",
       "    .dataframe tbody tr th {\n",
       "        vertical-align: top;\n",
       "    }\n",
       "\n",
       "    .dataframe thead th {\n",
       "        text-align: right;\n",
       "    }\n",
       "</style>\n",
       "<table border=\"1\" class=\"dataframe\">\n",
       "  <thead>\n",
       "    <tr style=\"text-align: right;\">\n",
       "      <th></th>\n",
       "      <th>sepal length</th>\n",
       "      <th>sepal width</th>\n",
       "      <th>petal length</th>\n",
       "      <th>petal width</th>\n",
       "      <th>target</th>\n",
       "    </tr>\n",
       "  </thead>\n",
       "  <tbody>\n",
       "    <tr>\n",
       "      <th>138</th>\n",
       "      <td>6.0</td>\n",
       "      <td>3.0</td>\n",
       "      <td>4.8</td>\n",
       "      <td>1.8</td>\n",
       "      <td>Iris-virginica</td>\n",
       "    </tr>\n",
       "  </tbody>\n",
       "</table>\n",
       "</div>"
      ],
      "text/plain": [
       "     sepal length  sepal width  petal length  petal width          target\n",
       "138           6.0          3.0           4.8          1.8  Iris-virginica"
      ]
     },
     "execution_count": 3,
     "metadata": {},
     "output_type": "execute_result"
    }
   ],
   "source": [
    "df.sample()"
   ]
  },
  {
   "cell_type": "code",
   "execution_count": 4,
   "metadata": {},
   "outputs": [
    {
     "data": {
      "text/html": [
       "<div>\n",
       "<style scoped>\n",
       "    .dataframe tbody tr th:only-of-type {\n",
       "        vertical-align: middle;\n",
       "    }\n",
       "\n",
       "    .dataframe tbody tr th {\n",
       "        vertical-align: top;\n",
       "    }\n",
       "\n",
       "    .dataframe thead th {\n",
       "        text-align: right;\n",
       "    }\n",
       "</style>\n",
       "<table border=\"1\" class=\"dataframe\">\n",
       "  <thead>\n",
       "    <tr style=\"text-align: right;\">\n",
       "      <th></th>\n",
       "      <th>sepal length</th>\n",
       "      <th>sepal width</th>\n",
       "      <th>petal length</th>\n",
       "      <th>petal width</th>\n",
       "      <th>target</th>\n",
       "    </tr>\n",
       "  </thead>\n",
       "  <tbody>\n",
       "    <tr>\n",
       "      <th>0</th>\n",
       "      <td>5.1</td>\n",
       "      <td>3.5</td>\n",
       "      <td>1.4</td>\n",
       "      <td>0.2</td>\n",
       "      <td>Iris-setosa</td>\n",
       "    </tr>\n",
       "    <tr>\n",
       "      <th>1</th>\n",
       "      <td>4.9</td>\n",
       "      <td>3.0</td>\n",
       "      <td>1.4</td>\n",
       "      <td>0.2</td>\n",
       "      <td>Iris-setosa</td>\n",
       "    </tr>\n",
       "    <tr>\n",
       "      <th>2</th>\n",
       "      <td>4.7</td>\n",
       "      <td>3.2</td>\n",
       "      <td>1.3</td>\n",
       "      <td>0.2</td>\n",
       "      <td>Iris-setosa</td>\n",
       "    </tr>\n",
       "    <tr>\n",
       "      <th>3</th>\n",
       "      <td>4.6</td>\n",
       "      <td>3.1</td>\n",
       "      <td>1.5</td>\n",
       "      <td>0.2</td>\n",
       "      <td>Iris-setosa</td>\n",
       "    </tr>\n",
       "    <tr>\n",
       "      <th>4</th>\n",
       "      <td>5.0</td>\n",
       "      <td>3.6</td>\n",
       "      <td>1.4</td>\n",
       "      <td>0.2</td>\n",
       "      <td>Iris-setosa</td>\n",
       "    </tr>\n",
       "  </tbody>\n",
       "</table>\n",
       "</div>"
      ],
      "text/plain": [
       "   sepal length  sepal width  petal length  petal width       target\n",
       "0           5.1          3.5           1.4          0.2  Iris-setosa\n",
       "1           4.9          3.0           1.4          0.2  Iris-setosa\n",
       "2           4.7          3.2           1.3          0.2  Iris-setosa\n",
       "3           4.6          3.1           1.5          0.2  Iris-setosa\n",
       "4           5.0          3.6           1.4          0.2  Iris-setosa"
      ]
     },
     "execution_count": 4,
     "metadata": {},
     "output_type": "execute_result"
    }
   ],
   "source": [
    "df.head()"
   ]
  },
  {
   "cell_type": "markdown",
   "metadata": {},
   "source": [
    "### Prepare Data for Decision Tree Classifier"
   ]
  },
  {
   "cell_type": "code",
   "execution_count": 5,
   "metadata": {},
   "outputs": [
    {
     "data": {
      "text/plain": [
       "[Iris-setosa, Iris-versicolor, Iris-virginica]\n",
       "Categories (3, object): [Iris-setosa, Iris-versicolor, Iris-virginica]"
      ]
     },
     "execution_count": 5,
     "metadata": {},
     "output_type": "execute_result"
    }
   ],
   "source": [
    "#convert category (strings) into integers\n",
    "df['target'] = df['target'].astype('category')\n",
    "iris_types = df['target'].unique()\n",
    "df['target'] = df['target'].cat.codes\n",
    "iris_types"
   ]
  },
  {
   "cell_type": "code",
   "execution_count": 6,
   "metadata": {},
   "outputs": [
    {
     "name": "stdout",
     "output_type": "stream",
     "text": [
      "(150, 4) (150,)\n"
     ]
    }
   ],
   "source": [
    "#split up between features and target\n",
    "X = df.iloc[:,:-1]\n",
    "y = df.iloc[:,-1]\n",
    "print(X.shape,y.shape)"
   ]
  },
  {
   "cell_type": "markdown",
   "metadata": {},
   "source": [
    "### Create Endpoint */train*"
   ]
  },
  {
   "cell_type": "code",
   "execution_count": 7,
   "metadata": {},
   "outputs": [],
   "source": [
    "from flask import jsonify,Flask,request\n",
    "app =Flask(__name__)"
   ]
  },
  {
   "cell_type": "code",
   "execution_count": 8,
   "metadata": {},
   "outputs": [],
   "source": [
    "@app.route('/train')\n",
    "def train():\n",
    "    from sklearn.ensemble import RandomForestClassifier\n",
    "    from sklearn import metrics\n",
    "    from sklearn.model_selection import KFold\n",
    "    from sklearn.externals import joblib\n",
    "    \n",
    "    #get input for n_estimators and max_depth\n",
    "    n_estimators = int(request.args.get('n_estimators'))\n",
    "    max_depth = int(request.args.get('max_depth'))\n",
    "        \n",
    "    #initialize Classifier\n",
    "    rfc = RandomForestClassifier(n_estimators = n_estimators, max_depth = max_depth, random_state = 0)\n",
    "    \n",
    "    #Train the Classifier via Crossvalidation\n",
    "    kf = KFold(n_splits=5,  random_state=None) \n",
    "    for train_index, test_index in kf.split(X):      \n",
    "        tmp_X_train, tmp_X_test = X.iloc[train_index], X.iloc[test_index] \n",
    "        tmp_y_train, tmp_y_test = y.iloc[train_index], y.iloc[test_index]\n",
    "        \n",
    "        rfc.fit(tmp_X_train,tmp_y_train)\n",
    "        \n",
    "    \n",
    "    #Make prediction with trained Model\n",
    "    y_pred = rfc.predict(X)\n",
    "    #make ML model accessible for other methods    \n",
    "    joblib.dump(rfc,'ML_model.pkl')\n",
    "    \n",
    "    return jsonify({'F1-Score': metrics.f1_score(y, y_pred, average = 'weighted'),\n",
    "                    'Precision': metrics.precision_score(y,y_pred, average = 'weighted'),\n",
    "                    'Recall': metrics.recall_score(y,y_pred, average = 'weighted'),                             \n",
    "                    'Accuracy': rfc.score(X,y)\n",
    "                   })"
   ]
  },
  {
   "cell_type": "markdown",
   "metadata": {},
   "source": [
    "### Create Endpoint */predict*"
   ]
  },
  {
   "cell_type": "code",
   "execution_count": 9,
   "metadata": {},
   "outputs": [],
   "source": [
    "@app.route('/predict')\n",
    "def predict():\n",
    "    from sklearn.externals import joblib\n",
    "    \n",
    "    #get input data\n",
    "    s_l = float(request.args.get('sepal_length'))\n",
    "    s_w = float(request.args.get('sepal_width'))\n",
    "    p_l = float(request.args.get('petal_length'))\n",
    "    p_w = float(request.args.get('petal_width'))\n",
    "    \n",
    "    #create DataFrame of input data\n",
    "    iris = pd.DataFrame({'sepal_length': [s_l],\n",
    "                        'sepal_width': [s_w],\n",
    "                        'petal_length': [p_l],\n",
    "                        'petal_width': [p_w]})\n",
    "    \n",
    "    #get trained model    \n",
    "    rfc = joblib.load('ML_model.pkl')\n",
    "    \n",
    "    #predict with trained model\n",
    "    output = int(rfc.predict(iris))\n",
    "    \n",
    "    #return type of iris\n",
    "    return jsonify({'Iris type': iris_types[output]})\n"
   ]
  },
  {
   "cell_type": "code",
   "execution_count": null,
   "metadata": {},
   "outputs": [
    {
     "name": "stdout",
     "output_type": "stream",
     "text": [
      " * Serving Flask app \"__main__\" (lazy loading)\n",
      " * Environment: production\n",
      "   WARNING: Do not use the development server in a production environment.\n",
      "   Use a production WSGI server instead.\n",
      " * Debug mode: on\n"
     ]
    },
    {
     "name": "stderr",
     "output_type": "stream",
     "text": [
      " * Running on http://0.0.0.0:5000/ (Press CTRL+C to quit)\n",
      "127.0.0.1 - - [19/Nov/2018 10:32:20] \"GET /train?n_estimators=3&max_depth=2 HTTP/1.1\" 200 -\n",
      "127.0.0.1 - - [19/Nov/2018 10:32:27] \"GET /train?n_estimators=1&max_depth=2 HTTP/1.1\" 200 -\n",
      "C:\\Users\\Tim Bo\\Anaconda3\\lib\\site-packages\\sklearn\\metrics\\classification.py:1143: UndefinedMetricWarning: F-score is ill-defined and being set to 0.0 in labels with no predicted samples.\n",
      "  'precision', 'predicted', average, warn_for)\n",
      "C:\\Users\\Tim Bo\\Anaconda3\\lib\\site-packages\\sklearn\\metrics\\classification.py:1143: UndefinedMetricWarning: Precision is ill-defined and being set to 0.0 in labels with no predicted samples.\n",
      "  'precision', 'predicted', average, warn_for)\n",
      "127.0.0.1 - - [19/Nov/2018 10:32:30] \"GET /train?n_estimators=1&max_depth=1 HTTP/1.1\" 200 -\n",
      "C:\\Users\\Tim Bo\\Anaconda3\\lib\\site-packages\\sklearn\\metrics\\classification.py:1143: UndefinedMetricWarning: F-score is ill-defined and being set to 0.0 in labels with no predicted samples.\n",
      "  'precision', 'predicted', average, warn_for)\n",
      "C:\\Users\\Tim Bo\\Anaconda3\\lib\\site-packages\\sklearn\\metrics\\classification.py:1143: UndefinedMetricWarning: Precision is ill-defined and being set to 0.0 in labels with no predicted samples.\n",
      "  'precision', 'predicted', average, warn_for)\n",
      "127.0.0.1 - - [19/Nov/2018 10:32:35] \"GET /train?n_estimators=3&max_depth=1 HTTP/1.1\" 200 -\n",
      "127.0.0.1 - - [19/Nov/2018 10:32:38] \"GET /train?n_estimators=3&max_depth=10 HTTP/1.1\" 200 -\n",
      "127.0.0.1 - - [19/Nov/2018 10:33:52] \"GET /predict?petal_length=1.8&petal_width=0.2&sepal_length=6.0&sepal_width=3.8 HTTP/1.1\" 200 -\n",
      "127.0.0.1 - - [19/Nov/2018 10:34:00] \"GET /predict?petal_length=6.2&petal_width=1.5&sepal_length=1.0&sepal_width=0.8 HTTP/1.1\" 200 -\n"
     ]
    }
   ],
   "source": [
    "app.run(debug=True, use_reloader=False, host='0.0.0.0')"
   ]
  },
  {
   "cell_type": "raw",
   "metadata": {},
   "source": []
  }
 ],
 "metadata": {
  "kernelspec": {
   "display_name": "Python 3",
   "language": "python",
   "name": "python3"
  },
  "language_info": {
   "codemirror_mode": {
    "name": "ipython",
    "version": 3
   },
   "file_extension": ".py",
   "mimetype": "text/x-python",
   "name": "python",
   "nbconvert_exporter": "python",
   "pygments_lexer": "ipython3",
   "version": "3.7.0"
  }
 },
 "nbformat": 4,
 "nbformat_minor": 2
}
